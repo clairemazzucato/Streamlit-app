{
 "cells": [
  {
   "cell_type": "code",
   "execution_count": 2,
   "id": "6dd287d7",
   "metadata": {},
   "outputs": [],
   "source": [
    "import xml.etree.ElementTree as ET\n",
    "import pandas as pd\n",
    "import datetime as dt\n",
    "\n",
    "# create element tree object \n",
    "tree = ET.parse('export.xml') \n",
    "\n",
    "# for every health record, extract the attributes into a dictionary (columns). Then create a list (rows).\n",
    "root = tree.getroot()\n",
    "record_list = [x.attrib for x in root.iter('Record')]\n",
    "\n",
    "# create DataFrame from a list (rows) of dictionaries (columns)\n",
    "data = pd.DataFrame(record_list)\n",
    "\n",
    "# proper type to dates\n",
    "for col in ['creationDate', 'startDate', 'endDate']:\n",
    "    data[col] = pd.to_datetime(data[col])\n",
    "\n",
    "# value is numeric, NaN if fails\n",
    "data['value'] = pd.to_numeric(data['value'], errors='coerce')\n",
    "\n",
    "# some records do not measure anything, just count occurences\n",
    "# filling with 1.0 (= one time) makes it easier to aggregate\n",
    "data['value'] = data['value'].fillna(1.0)\n",
    "\n",
    "# shorter observation names: use vectorized replace function\n",
    "data['type'] = data['type'].str.replace('HKQuantityTypeIdentifier', '')\n",
    "data['type'] = data['type'].str.replace('HKCategoryTypeIdentifier', '')"
   ]
  },
  {
   "cell_type": "markdown",
   "id": "def7c0b7",
   "metadata": {},
   "source": [
    "Sources de données\n",
    "- Données Santé Apple: done \n",
    "- Données Apple: pas reçu \n",
    "- Données Uber: done \n",
    "- Données Instagram: non reçu \n",
    "- Données Fb: non reçu "
   ]
  },
  {
   "cell_type": "code",
   "execution_count": 3,
   "id": "d911f730",
   "metadata": {},
   "outputs": [
    {
     "data": {
      "text/html": [
       "<div>\n",
       "<style scoped>\n",
       "    .dataframe tbody tr th:only-of-type {\n",
       "        vertical-align: middle;\n",
       "    }\n",
       "\n",
       "    .dataframe tbody tr th {\n",
       "        vertical-align: top;\n",
       "    }\n",
       "\n",
       "    .dataframe thead th {\n",
       "        text-align: right;\n",
       "    }\n",
       "</style>\n",
       "<table border=\"1\" class=\"dataframe\">\n",
       "  <thead>\n",
       "    <tr style=\"text-align: right;\">\n",
       "      <th></th>\n",
       "      <th>type</th>\n",
       "      <th>sourceName</th>\n",
       "      <th>sourceVersion</th>\n",
       "      <th>device</th>\n",
       "      <th>unit</th>\n",
       "      <th>creationDate</th>\n",
       "      <th>startDate</th>\n",
       "      <th>endDate</th>\n",
       "      <th>value</th>\n",
       "    </tr>\n",
       "  </thead>\n",
       "  <tbody>\n",
       "    <tr>\n",
       "      <th>0</th>\n",
       "      <td>StepCount</td>\n",
       "      <td>Claire</td>\n",
       "      <td>13.0</td>\n",
       "      <td>&lt;&lt;HKDevice: 0x282531540&gt;, name:iPhone, manufac...</td>\n",
       "      <td>count</td>\n",
       "      <td>2019-09-21 23:23:37+01:00</td>\n",
       "      <td>2019-09-21 23:12:34+01:00</td>\n",
       "      <td>2019-09-21 23:15:07+01:00</td>\n",
       "      <td>88.0</td>\n",
       "    </tr>\n",
       "    <tr>\n",
       "      <th>1</th>\n",
       "      <td>StepCount</td>\n",
       "      <td>Claire</td>\n",
       "      <td>13.0</td>\n",
       "      <td>&lt;&lt;HKDevice: 0x282531540&gt;, name:iPhone, manufac...</td>\n",
       "      <td>count</td>\n",
       "      <td>2019-09-21 23:53:13+01:00</td>\n",
       "      <td>2019-09-21 23:42:10+01:00</td>\n",
       "      <td>2019-09-21 23:42:13+01:00</td>\n",
       "      <td>8.0</td>\n",
       "    </tr>\n",
       "    <tr>\n",
       "      <th>2</th>\n",
       "      <td>StepCount</td>\n",
       "      <td>iPhone de Claire</td>\n",
       "      <td>12.1.3</td>\n",
       "      <td>&lt;&lt;HKDevice: 0x282530aa0&gt;, name:iPhone, manufac...</td>\n",
       "      <td>count</td>\n",
       "      <td>2019-02-02 20:06:09+01:00</td>\n",
       "      <td>2019-02-02 19:55:46+01:00</td>\n",
       "      <td>2019-02-02 20:05:18+01:00</td>\n",
       "      <td>450.0</td>\n",
       "    </tr>\n",
       "    <tr>\n",
       "      <th>3</th>\n",
       "      <td>StepCount</td>\n",
       "      <td>iPhone de Claire</td>\n",
       "      <td>12.1.3</td>\n",
       "      <td>&lt;&lt;HKDevice: 0x282530aa0&gt;, name:iPhone, manufac...</td>\n",
       "      <td>count</td>\n",
       "      <td>2019-02-02 20:23:30+01:00</td>\n",
       "      <td>2019-02-02 20:05:18+01:00</td>\n",
       "      <td>2019-02-02 20:05:58+01:00</td>\n",
       "      <td>65.0</td>\n",
       "    </tr>\n",
       "    <tr>\n",
       "      <th>4</th>\n",
       "      <td>StepCount</td>\n",
       "      <td>iPhone de Claire (2)</td>\n",
       "      <td>NaN</td>\n",
       "      <td>NaN</td>\n",
       "      <td>count</td>\n",
       "      <td>2015-05-07 23:07:36+01:00</td>\n",
       "      <td>2015-05-07 21:37:56+01:00</td>\n",
       "      <td>2015-05-07 21:38:04+01:00</td>\n",
       "      <td>26.0</td>\n",
       "    </tr>\n",
       "    <tr>\n",
       "      <th>...</th>\n",
       "      <td>...</td>\n",
       "      <td>...</td>\n",
       "      <td>...</td>\n",
       "      <td>...</td>\n",
       "      <td>...</td>\n",
       "      <td>...</td>\n",
       "      <td>...</td>\n",
       "      <td>...</td>\n",
       "      <td>...</td>\n",
       "    </tr>\n",
       "    <tr>\n",
       "      <th>182434</th>\n",
       "      <td>SleepAnalysis</td>\n",
       "      <td>Claire</td>\n",
       "      <td>14.4.2</td>\n",
       "      <td>NaN</td>\n",
       "      <td>NaN</td>\n",
       "      <td>2021-12-14 08:15:02+01:00</td>\n",
       "      <td>2021-12-14 07:50:33+01:00</td>\n",
       "      <td>2021-12-14 07:54:15+01:00</td>\n",
       "      <td>1.0</td>\n",
       "    </tr>\n",
       "    <tr>\n",
       "      <th>182435</th>\n",
       "      <td>SleepAnalysis</td>\n",
       "      <td>Claire</td>\n",
       "      <td>14.4.2</td>\n",
       "      <td>NaN</td>\n",
       "      <td>NaN</td>\n",
       "      <td>2021-12-14 07:57:28+01:00</td>\n",
       "      <td>2021-12-14 07:54:53+01:00</td>\n",
       "      <td>2021-12-14 07:56:34+01:00</td>\n",
       "      <td>1.0</td>\n",
       "    </tr>\n",
       "    <tr>\n",
       "      <th>182436</th>\n",
       "      <td>SleepAnalysis</td>\n",
       "      <td>Claire</td>\n",
       "      <td>14.4.2</td>\n",
       "      <td>NaN</td>\n",
       "      <td>NaN</td>\n",
       "      <td>2021-12-14 08:15:02+01:00</td>\n",
       "      <td>2021-12-14 07:54:53+01:00</td>\n",
       "      <td>2021-12-14 07:56:34+01:00</td>\n",
       "      <td>1.0</td>\n",
       "    </tr>\n",
       "    <tr>\n",
       "      <th>182437</th>\n",
       "      <td>SleepAnalysis</td>\n",
       "      <td>Claire</td>\n",
       "      <td>14.4.2</td>\n",
       "      <td>NaN</td>\n",
       "      <td>NaN</td>\n",
       "      <td>2021-12-14 08:15:02+01:00</td>\n",
       "      <td>2021-12-14 07:59:14+01:00</td>\n",
       "      <td>2021-12-14 08:15:02+01:00</td>\n",
       "      <td>1.0</td>\n",
       "    </tr>\n",
       "    <tr>\n",
       "      <th>182438</th>\n",
       "      <td>SleepAnalysis</td>\n",
       "      <td>Claire</td>\n",
       "      <td>14.4.2</td>\n",
       "      <td>NaN</td>\n",
       "      <td>NaN</td>\n",
       "      <td>2021-12-15 07:00:12+01:00</td>\n",
       "      <td>2021-12-15 01:40:37+01:00</td>\n",
       "      <td>2021-12-15 07:00:12+01:00</td>\n",
       "      <td>1.0</td>\n",
       "    </tr>\n",
       "  </tbody>\n",
       "</table>\n",
       "<p>182439 rows × 9 columns</p>\n",
       "</div>"
      ],
      "text/plain": [
       "                 type            sourceName sourceVersion  \\\n",
       "0           StepCount               Claire           13.0   \n",
       "1           StepCount               Claire           13.0   \n",
       "2           StepCount      iPhone de Claire        12.1.3   \n",
       "3           StepCount      iPhone de Claire        12.1.3   \n",
       "4           StepCount  iPhone de Claire (2)           NaN   \n",
       "...               ...                   ...           ...   \n",
       "182434  SleepAnalysis               Claire         14.4.2   \n",
       "182435  SleepAnalysis               Claire         14.4.2   \n",
       "182436  SleepAnalysis               Claire         14.4.2   \n",
       "182437  SleepAnalysis               Claire         14.4.2   \n",
       "182438  SleepAnalysis               Claire         14.4.2   \n",
       "\n",
       "                                                   device   unit  \\\n",
       "0       <<HKDevice: 0x282531540>, name:iPhone, manufac...  count   \n",
       "1       <<HKDevice: 0x282531540>, name:iPhone, manufac...  count   \n",
       "2       <<HKDevice: 0x282530aa0>, name:iPhone, manufac...  count   \n",
       "3       <<HKDevice: 0x282530aa0>, name:iPhone, manufac...  count   \n",
       "4                                                     NaN  count   \n",
       "...                                                   ...    ...   \n",
       "182434                                                NaN    NaN   \n",
       "182435                                                NaN    NaN   \n",
       "182436                                                NaN    NaN   \n",
       "182437                                                NaN    NaN   \n",
       "182438                                                NaN    NaN   \n",
       "\n",
       "                    creationDate                 startDate  \\\n",
       "0      2019-09-21 23:23:37+01:00 2019-09-21 23:12:34+01:00   \n",
       "1      2019-09-21 23:53:13+01:00 2019-09-21 23:42:10+01:00   \n",
       "2      2019-02-02 20:06:09+01:00 2019-02-02 19:55:46+01:00   \n",
       "3      2019-02-02 20:23:30+01:00 2019-02-02 20:05:18+01:00   \n",
       "4      2015-05-07 23:07:36+01:00 2015-05-07 21:37:56+01:00   \n",
       "...                          ...                       ...   \n",
       "182434 2021-12-14 08:15:02+01:00 2021-12-14 07:50:33+01:00   \n",
       "182435 2021-12-14 07:57:28+01:00 2021-12-14 07:54:53+01:00   \n",
       "182436 2021-12-14 08:15:02+01:00 2021-12-14 07:54:53+01:00   \n",
       "182437 2021-12-14 08:15:02+01:00 2021-12-14 07:59:14+01:00   \n",
       "182438 2021-12-15 07:00:12+01:00 2021-12-15 01:40:37+01:00   \n",
       "\n",
       "                         endDate  value  \n",
       "0      2019-09-21 23:15:07+01:00   88.0  \n",
       "1      2019-09-21 23:42:13+01:00    8.0  \n",
       "2      2019-02-02 20:05:18+01:00  450.0  \n",
       "3      2019-02-02 20:05:58+01:00   65.0  \n",
       "4      2015-05-07 21:38:04+01:00   26.0  \n",
       "...                          ...    ...  \n",
       "182434 2021-12-14 07:54:15+01:00    1.0  \n",
       "182435 2021-12-14 07:56:34+01:00    1.0  \n",
       "182436 2021-12-14 07:56:34+01:00    1.0  \n",
       "182437 2021-12-14 08:15:02+01:00    1.0  \n",
       "182438 2021-12-15 07:00:12+01:00    1.0  \n",
       "\n",
       "[182439 rows x 9 columns]"
      ]
     },
     "execution_count": 3,
     "metadata": {},
     "output_type": "execute_result"
    }
   ],
   "source": [
    "data"
   ]
  },
  {
   "cell_type": "code",
   "execution_count": 4,
   "id": "627a2b02",
   "metadata": {},
   "outputs": [
    {
     "data": {
      "text/html": [
       "<div>\n",
       "<style scoped>\n",
       "    .dataframe tbody tr th:only-of-type {\n",
       "        vertical-align: middle;\n",
       "    }\n",
       "\n",
       "    .dataframe tbody tr th {\n",
       "        vertical-align: top;\n",
       "    }\n",
       "\n",
       "    .dataframe thead th {\n",
       "        text-align: right;\n",
       "    }\n",
       "</style>\n",
       "<table border=\"1\" class=\"dataframe\">\n",
       "  <thead>\n",
       "    <tr style=\"text-align: right;\">\n",
       "      <th></th>\n",
       "      <th>value</th>\n",
       "    </tr>\n",
       "    <tr>\n",
       "      <th>type</th>\n",
       "      <th></th>\n",
       "    </tr>\n",
       "  </thead>\n",
       "  <tbody>\n",
       "    <tr>\n",
       "      <th>ActiveEnergyBurned</th>\n",
       "      <td>0.506205</td>\n",
       "    </tr>\n",
       "    <tr>\n",
       "      <th>DistanceWalkingRunning</th>\n",
       "      <td>0.114822</td>\n",
       "    </tr>\n",
       "    <tr>\n",
       "      <th>FlightsClimbed</th>\n",
       "      <td>1.393526</td>\n",
       "    </tr>\n",
       "    <tr>\n",
       "      <th>HKDataTypeSleepDurationGoal</th>\n",
       "      <td>8.500000</td>\n",
       "    </tr>\n",
       "    <tr>\n",
       "      <th>HeadphoneAudioExposure</th>\n",
       "      <td>61.969173</td>\n",
       "    </tr>\n",
       "    <tr>\n",
       "      <th>SleepAnalysis</th>\n",
       "      <td>1.000000</td>\n",
       "    </tr>\n",
       "    <tr>\n",
       "      <th>StepCount</th>\n",
       "      <td>187.592751</td>\n",
       "    </tr>\n",
       "    <tr>\n",
       "      <th>WalkingAsymmetryPercentage</th>\n",
       "      <td>0.023039</td>\n",
       "    </tr>\n",
       "    <tr>\n",
       "      <th>WalkingDoubleSupportPercentage</th>\n",
       "      <td>0.293766</td>\n",
       "    </tr>\n",
       "    <tr>\n",
       "      <th>WalkingSpeed</th>\n",
       "      <td>4.411554</td>\n",
       "    </tr>\n",
       "    <tr>\n",
       "      <th>WalkingStepLength</th>\n",
       "      <td>69.901337</td>\n",
       "    </tr>\n",
       "  </tbody>\n",
       "</table>\n",
       "</div>"
      ],
      "text/plain": [
       "                                     value\n",
       "type                                      \n",
       "ActiveEnergyBurned                0.506205\n",
       "DistanceWalkingRunning            0.114822\n",
       "FlightsClimbed                    1.393526\n",
       "HKDataTypeSleepDurationGoal       8.500000\n",
       "HeadphoneAudioExposure           61.969173\n",
       "SleepAnalysis                     1.000000\n",
       "StepCount                       187.592751\n",
       "WalkingAsymmetryPercentage        0.023039\n",
       "WalkingDoubleSupportPercentage    0.293766\n",
       "WalkingSpeed                      4.411554\n",
       "WalkingStepLength                69.901337"
      ]
     },
     "execution_count": 4,
     "metadata": {},
     "output_type": "execute_result"
    }
   ],
   "source": [
    "data.groupby(['type']).mean()"
   ]
  },
  {
   "cell_type": "code",
   "execution_count": 5,
   "id": "d990b1e4",
   "metadata": {},
   "outputs": [],
   "source": [
    "sleep_data = data.loc[data['type'] == 'SleepAnalysis']"
   ]
  },
  {
   "cell_type": "code",
   "execution_count": 6,
   "id": "fbf84b23",
   "metadata": {},
   "outputs": [
    {
     "data": {
      "text/html": [
       "<div>\n",
       "<style scoped>\n",
       "    .dataframe tbody tr th:only-of-type {\n",
       "        vertical-align: middle;\n",
       "    }\n",
       "\n",
       "    .dataframe tbody tr th {\n",
       "        vertical-align: top;\n",
       "    }\n",
       "\n",
       "    .dataframe thead th {\n",
       "        text-align: right;\n",
       "    }\n",
       "</style>\n",
       "<table border=\"1\" class=\"dataframe\">\n",
       "  <thead>\n",
       "    <tr style=\"text-align: right;\">\n",
       "      <th></th>\n",
       "      <th>type</th>\n",
       "      <th>sourceName</th>\n",
       "      <th>sourceVersion</th>\n",
       "      <th>device</th>\n",
       "      <th>unit</th>\n",
       "      <th>creationDate</th>\n",
       "      <th>startDate</th>\n",
       "      <th>endDate</th>\n",
       "      <th>value</th>\n",
       "    </tr>\n",
       "  </thead>\n",
       "  <tbody>\n",
       "    <tr>\n",
       "      <th>181320</th>\n",
       "      <td>SleepAnalysis</td>\n",
       "      <td>Horloge</td>\n",
       "      <td>50</td>\n",
       "      <td>&lt;&lt;HKDevice: 0x2825dd770&gt;, name:iPhone, manufac...</td>\n",
       "      <td>NaN</td>\n",
       "      <td>2017-03-05 09:45:12+01:00</td>\n",
       "      <td>2017-03-05 00:45:00+01:00</td>\n",
       "      <td>2017-03-05 02:51:52+01:00</td>\n",
       "      <td>1.0</td>\n",
       "    </tr>\n",
       "    <tr>\n",
       "      <th>181321</th>\n",
       "      <td>SleepAnalysis</td>\n",
       "      <td>Horloge</td>\n",
       "      <td>50</td>\n",
       "      <td>&lt;&lt;HKDevice: 0x2825dd770&gt;, name:iPhone, manufac...</td>\n",
       "      <td>NaN</td>\n",
       "      <td>2017-03-05 09:45:12+01:00</td>\n",
       "      <td>2017-03-05 02:52:52+01:00</td>\n",
       "      <td>2017-03-05 09:45:11+01:00</td>\n",
       "      <td>1.0</td>\n",
       "    </tr>\n",
       "    <tr>\n",
       "      <th>181322</th>\n",
       "      <td>SleepAnalysis</td>\n",
       "      <td>Horloge</td>\n",
       "      <td>50</td>\n",
       "      <td>&lt;&lt;HKDevice: 0x2825dd770&gt;, name:iPhone, manufac...</td>\n",
       "      <td>NaN</td>\n",
       "      <td>2017-03-12 10:45:21+01:00</td>\n",
       "      <td>2017-03-12 03:13:40+01:00</td>\n",
       "      <td>2017-03-12 03:14:44+01:00</td>\n",
       "      <td>1.0</td>\n",
       "    </tr>\n",
       "    <tr>\n",
       "      <th>181323</th>\n",
       "      <td>SleepAnalysis</td>\n",
       "      <td>Horloge</td>\n",
       "      <td>50</td>\n",
       "      <td>&lt;&lt;HKDevice: 0x2825dd770&gt;, name:iPhone, manufac...</td>\n",
       "      <td>NaN</td>\n",
       "      <td>2017-03-12 10:45:21+01:00</td>\n",
       "      <td>2017-03-12 03:15:16+01:00</td>\n",
       "      <td>2017-03-12 03:17:00+01:00</td>\n",
       "      <td>1.0</td>\n",
       "    </tr>\n",
       "    <tr>\n",
       "      <th>181324</th>\n",
       "      <td>SleepAnalysis</td>\n",
       "      <td>Horloge</td>\n",
       "      <td>50</td>\n",
       "      <td>&lt;&lt;HKDevice: 0x2825dd770&gt;, name:iPhone, manufac...</td>\n",
       "      <td>NaN</td>\n",
       "      <td>2017-03-12 10:45:21+01:00</td>\n",
       "      <td>2017-03-12 03:17:00+01:00</td>\n",
       "      <td>2017-03-12 03:48:16+01:00</td>\n",
       "      <td>1.0</td>\n",
       "    </tr>\n",
       "    <tr>\n",
       "      <th>...</th>\n",
       "      <td>...</td>\n",
       "      <td>...</td>\n",
       "      <td>...</td>\n",
       "      <td>...</td>\n",
       "      <td>...</td>\n",
       "      <td>...</td>\n",
       "      <td>...</td>\n",
       "      <td>...</td>\n",
       "      <td>...</td>\n",
       "    </tr>\n",
       "    <tr>\n",
       "      <th>182434</th>\n",
       "      <td>SleepAnalysis</td>\n",
       "      <td>Claire</td>\n",
       "      <td>14.4.2</td>\n",
       "      <td>NaN</td>\n",
       "      <td>NaN</td>\n",
       "      <td>2021-12-14 08:15:02+01:00</td>\n",
       "      <td>2021-12-14 07:50:33+01:00</td>\n",
       "      <td>2021-12-14 07:54:15+01:00</td>\n",
       "      <td>1.0</td>\n",
       "    </tr>\n",
       "    <tr>\n",
       "      <th>182435</th>\n",
       "      <td>SleepAnalysis</td>\n",
       "      <td>Claire</td>\n",
       "      <td>14.4.2</td>\n",
       "      <td>NaN</td>\n",
       "      <td>NaN</td>\n",
       "      <td>2021-12-14 07:57:28+01:00</td>\n",
       "      <td>2021-12-14 07:54:53+01:00</td>\n",
       "      <td>2021-12-14 07:56:34+01:00</td>\n",
       "      <td>1.0</td>\n",
       "    </tr>\n",
       "    <tr>\n",
       "      <th>182436</th>\n",
       "      <td>SleepAnalysis</td>\n",
       "      <td>Claire</td>\n",
       "      <td>14.4.2</td>\n",
       "      <td>NaN</td>\n",
       "      <td>NaN</td>\n",
       "      <td>2021-12-14 08:15:02+01:00</td>\n",
       "      <td>2021-12-14 07:54:53+01:00</td>\n",
       "      <td>2021-12-14 07:56:34+01:00</td>\n",
       "      <td>1.0</td>\n",
       "    </tr>\n",
       "    <tr>\n",
       "      <th>182437</th>\n",
       "      <td>SleepAnalysis</td>\n",
       "      <td>Claire</td>\n",
       "      <td>14.4.2</td>\n",
       "      <td>NaN</td>\n",
       "      <td>NaN</td>\n",
       "      <td>2021-12-14 08:15:02+01:00</td>\n",
       "      <td>2021-12-14 07:59:14+01:00</td>\n",
       "      <td>2021-12-14 08:15:02+01:00</td>\n",
       "      <td>1.0</td>\n",
       "    </tr>\n",
       "    <tr>\n",
       "      <th>182438</th>\n",
       "      <td>SleepAnalysis</td>\n",
       "      <td>Claire</td>\n",
       "      <td>14.4.2</td>\n",
       "      <td>NaN</td>\n",
       "      <td>NaN</td>\n",
       "      <td>2021-12-15 07:00:12+01:00</td>\n",
       "      <td>2021-12-15 01:40:37+01:00</td>\n",
       "      <td>2021-12-15 07:00:12+01:00</td>\n",
       "      <td>1.0</td>\n",
       "    </tr>\n",
       "  </tbody>\n",
       "</table>\n",
       "<p>1119 rows × 9 columns</p>\n",
       "</div>"
      ],
      "text/plain": [
       "                 type sourceName sourceVersion  \\\n",
       "181320  SleepAnalysis    Horloge            50   \n",
       "181321  SleepAnalysis    Horloge            50   \n",
       "181322  SleepAnalysis    Horloge            50   \n",
       "181323  SleepAnalysis    Horloge            50   \n",
       "181324  SleepAnalysis    Horloge            50   \n",
       "...               ...        ...           ...   \n",
       "182434  SleepAnalysis    Claire         14.4.2   \n",
       "182435  SleepAnalysis    Claire         14.4.2   \n",
       "182436  SleepAnalysis    Claire         14.4.2   \n",
       "182437  SleepAnalysis    Claire         14.4.2   \n",
       "182438  SleepAnalysis    Claire         14.4.2   \n",
       "\n",
       "                                                   device unit  \\\n",
       "181320  <<HKDevice: 0x2825dd770>, name:iPhone, manufac...  NaN   \n",
       "181321  <<HKDevice: 0x2825dd770>, name:iPhone, manufac...  NaN   \n",
       "181322  <<HKDevice: 0x2825dd770>, name:iPhone, manufac...  NaN   \n",
       "181323  <<HKDevice: 0x2825dd770>, name:iPhone, manufac...  NaN   \n",
       "181324  <<HKDevice: 0x2825dd770>, name:iPhone, manufac...  NaN   \n",
       "...                                                   ...  ...   \n",
       "182434                                                NaN  NaN   \n",
       "182435                                                NaN  NaN   \n",
       "182436                                                NaN  NaN   \n",
       "182437                                                NaN  NaN   \n",
       "182438                                                NaN  NaN   \n",
       "\n",
       "                    creationDate                 startDate  \\\n",
       "181320 2017-03-05 09:45:12+01:00 2017-03-05 00:45:00+01:00   \n",
       "181321 2017-03-05 09:45:12+01:00 2017-03-05 02:52:52+01:00   \n",
       "181322 2017-03-12 10:45:21+01:00 2017-03-12 03:13:40+01:00   \n",
       "181323 2017-03-12 10:45:21+01:00 2017-03-12 03:15:16+01:00   \n",
       "181324 2017-03-12 10:45:21+01:00 2017-03-12 03:17:00+01:00   \n",
       "...                          ...                       ...   \n",
       "182434 2021-12-14 08:15:02+01:00 2021-12-14 07:50:33+01:00   \n",
       "182435 2021-12-14 07:57:28+01:00 2021-12-14 07:54:53+01:00   \n",
       "182436 2021-12-14 08:15:02+01:00 2021-12-14 07:54:53+01:00   \n",
       "182437 2021-12-14 08:15:02+01:00 2021-12-14 07:59:14+01:00   \n",
       "182438 2021-12-15 07:00:12+01:00 2021-12-15 01:40:37+01:00   \n",
       "\n",
       "                         endDate  value  \n",
       "181320 2017-03-05 02:51:52+01:00    1.0  \n",
       "181321 2017-03-05 09:45:11+01:00    1.0  \n",
       "181322 2017-03-12 03:14:44+01:00    1.0  \n",
       "181323 2017-03-12 03:17:00+01:00    1.0  \n",
       "181324 2017-03-12 03:48:16+01:00    1.0  \n",
       "...                          ...    ...  \n",
       "182434 2021-12-14 07:54:15+01:00    1.0  \n",
       "182435 2021-12-14 07:56:34+01:00    1.0  \n",
       "182436 2021-12-14 07:56:34+01:00    1.0  \n",
       "182437 2021-12-14 08:15:02+01:00    1.0  \n",
       "182438 2021-12-15 07:00:12+01:00    1.0  \n",
       "\n",
       "[1119 rows x 9 columns]"
      ]
     },
     "execution_count": 6,
     "metadata": {},
     "output_type": "execute_result"
    }
   ],
   "source": [
    "sleep_data"
   ]
  },
  {
   "cell_type": "code",
   "execution_count": 7,
   "id": "49a6e5e4",
   "metadata": {},
   "outputs": [
    {
     "name": "stderr",
     "output_type": "stream",
     "text": [
      "/var/folders/cx/j0xfy3qs2sb4hjcbwpn2qq240000gn/T/ipykernel_49749/1807853181.py:1: SettingWithCopyWarning: \n",
      "A value is trying to be set on a copy of a slice from a DataFrame.\n",
      "Try using .loc[row_indexer,col_indexer] = value instead\n",
      "\n",
      "See the caveats in the documentation: https://pandas.pydata.org/pandas-docs/stable/user_guide/indexing.html#returning-a-view-versus-a-copy\n",
      "  sleep_data['duration'] = sleep_data['endDate']-sleep_data['startDate']\n"
     ]
    }
   ],
   "source": [
    "sleep_data['duration'] = sleep_data['endDate']-sleep_data['startDate']"
   ]
  },
  {
   "cell_type": "code",
   "execution_count": 85,
   "id": "f6f9b1c0",
   "metadata": {},
   "outputs": [],
   "source": [
    "sleep_data.to_csv('sleep_data.csv')"
   ]
  },
  {
   "cell_type": "code",
   "execution_count": 12,
   "id": "e6e74302",
   "metadata": {},
   "outputs": [
    {
     "data": {
      "text/plain": [
       "array(['Horloge', 'Claire '], dtype=object)"
      ]
     },
     "execution_count": 12,
     "metadata": {},
     "output_type": "execute_result"
    }
   ],
   "source": [
    "sleep_data['sourceName'].unique()"
   ]
  },
  {
   "cell_type": "code",
   "execution_count": 13,
   "id": "867ce520",
   "metadata": {},
   "outputs": [],
   "source": [
    "sleep_data_claire = sleep_data.loc[sleep_data['sourceName'] == 'Claire ']"
   ]
  },
  {
   "cell_type": "code",
   "execution_count": 14,
   "id": "24b14170",
   "metadata": {},
   "outputs": [
    {
     "data": {
      "text/html": [
       "<div>\n",
       "<style scoped>\n",
       "    .dataframe tbody tr th:only-of-type {\n",
       "        vertical-align: middle;\n",
       "    }\n",
       "\n",
       "    .dataframe tbody tr th {\n",
       "        vertical-align: top;\n",
       "    }\n",
       "\n",
       "    .dataframe thead th {\n",
       "        text-align: right;\n",
       "    }\n",
       "</style>\n",
       "<table border=\"1\" class=\"dataframe\">\n",
       "  <thead>\n",
       "    <tr style=\"text-align: right;\">\n",
       "      <th></th>\n",
       "      <th>type</th>\n",
       "      <th>sourceName</th>\n",
       "      <th>sourceVersion</th>\n",
       "      <th>device</th>\n",
       "      <th>unit</th>\n",
       "      <th>creationDate</th>\n",
       "      <th>startDate</th>\n",
       "      <th>endDate</th>\n",
       "      <th>value</th>\n",
       "      <th>duration</th>\n",
       "    </tr>\n",
       "  </thead>\n",
       "  <tbody>\n",
       "    <tr>\n",
       "      <th>181432</th>\n",
       "      <td>SleepAnalysis</td>\n",
       "      <td>Claire</td>\n",
       "      <td>14.2</td>\n",
       "      <td>NaN</td>\n",
       "      <td>NaN</td>\n",
       "      <td>2020-11-26 08:24:48+01:00</td>\n",
       "      <td>2020-11-25 23:45:00+01:00</td>\n",
       "      <td>2020-11-26 08:15:21+01:00</td>\n",
       "      <td>1.0</td>\n",
       "      <td>0 days 08:30:21</td>\n",
       "    </tr>\n",
       "    <tr>\n",
       "      <th>181433</th>\n",
       "      <td>SleepAnalysis</td>\n",
       "      <td>Claire</td>\n",
       "      <td>14.2</td>\n",
       "      <td>NaN</td>\n",
       "      <td>NaN</td>\n",
       "      <td>2020-11-26 08:24:48+01:00</td>\n",
       "      <td>2020-11-26 08:17:15+01:00</td>\n",
       "      <td>2020-11-26 08:20:09+01:00</td>\n",
       "      <td>1.0</td>\n",
       "      <td>0 days 00:02:54</td>\n",
       "    </tr>\n",
       "    <tr>\n",
       "      <th>181434</th>\n",
       "      <td>SleepAnalysis</td>\n",
       "      <td>Claire</td>\n",
       "      <td>14.2</td>\n",
       "      <td>NaN</td>\n",
       "      <td>NaN</td>\n",
       "      <td>2020-11-26 08:24:48+01:00</td>\n",
       "      <td>2020-11-26 08:20:25+01:00</td>\n",
       "      <td>2020-11-26 08:20:32+01:00</td>\n",
       "      <td>1.0</td>\n",
       "      <td>0 days 00:00:07</td>\n",
       "    </tr>\n",
       "    <tr>\n",
       "      <th>181435</th>\n",
       "      <td>SleepAnalysis</td>\n",
       "      <td>Claire</td>\n",
       "      <td>14.2</td>\n",
       "      <td>NaN</td>\n",
       "      <td>NaN</td>\n",
       "      <td>2020-11-26 08:24:48+01:00</td>\n",
       "      <td>2020-11-26 08:22:18+01:00</td>\n",
       "      <td>2020-11-26 08:24:48+01:00</td>\n",
       "      <td>1.0</td>\n",
       "      <td>0 days 00:02:30</td>\n",
       "    </tr>\n",
       "    <tr>\n",
       "      <th>181436</th>\n",
       "      <td>SleepAnalysis</td>\n",
       "      <td>Claire</td>\n",
       "      <td>14.2</td>\n",
       "      <td>NaN</td>\n",
       "      <td>NaN</td>\n",
       "      <td>2020-11-27 08:00:16+01:00</td>\n",
       "      <td>2020-11-27 00:18:59+01:00</td>\n",
       "      <td>2020-11-27 08:00:16+01:00</td>\n",
       "      <td>1.0</td>\n",
       "      <td>0 days 07:41:17</td>\n",
       "    </tr>\n",
       "    <tr>\n",
       "      <th>...</th>\n",
       "      <td>...</td>\n",
       "      <td>...</td>\n",
       "      <td>...</td>\n",
       "      <td>...</td>\n",
       "      <td>...</td>\n",
       "      <td>...</td>\n",
       "      <td>...</td>\n",
       "      <td>...</td>\n",
       "      <td>...</td>\n",
       "      <td>...</td>\n",
       "    </tr>\n",
       "    <tr>\n",
       "      <th>182434</th>\n",
       "      <td>SleepAnalysis</td>\n",
       "      <td>Claire</td>\n",
       "      <td>14.4.2</td>\n",
       "      <td>NaN</td>\n",
       "      <td>NaN</td>\n",
       "      <td>2021-12-14 08:15:02+01:00</td>\n",
       "      <td>2021-12-14 07:50:33+01:00</td>\n",
       "      <td>2021-12-14 07:54:15+01:00</td>\n",
       "      <td>1.0</td>\n",
       "      <td>0 days 00:03:42</td>\n",
       "    </tr>\n",
       "    <tr>\n",
       "      <th>182435</th>\n",
       "      <td>SleepAnalysis</td>\n",
       "      <td>Claire</td>\n",
       "      <td>14.4.2</td>\n",
       "      <td>NaN</td>\n",
       "      <td>NaN</td>\n",
       "      <td>2021-12-14 07:57:28+01:00</td>\n",
       "      <td>2021-12-14 07:54:53+01:00</td>\n",
       "      <td>2021-12-14 07:56:34+01:00</td>\n",
       "      <td>1.0</td>\n",
       "      <td>0 days 00:01:41</td>\n",
       "    </tr>\n",
       "    <tr>\n",
       "      <th>182436</th>\n",
       "      <td>SleepAnalysis</td>\n",
       "      <td>Claire</td>\n",
       "      <td>14.4.2</td>\n",
       "      <td>NaN</td>\n",
       "      <td>NaN</td>\n",
       "      <td>2021-12-14 08:15:02+01:00</td>\n",
       "      <td>2021-12-14 07:54:53+01:00</td>\n",
       "      <td>2021-12-14 07:56:34+01:00</td>\n",
       "      <td>1.0</td>\n",
       "      <td>0 days 00:01:41</td>\n",
       "    </tr>\n",
       "    <tr>\n",
       "      <th>182437</th>\n",
       "      <td>SleepAnalysis</td>\n",
       "      <td>Claire</td>\n",
       "      <td>14.4.2</td>\n",
       "      <td>NaN</td>\n",
       "      <td>NaN</td>\n",
       "      <td>2021-12-14 08:15:02+01:00</td>\n",
       "      <td>2021-12-14 07:59:14+01:00</td>\n",
       "      <td>2021-12-14 08:15:02+01:00</td>\n",
       "      <td>1.0</td>\n",
       "      <td>0 days 00:15:48</td>\n",
       "    </tr>\n",
       "    <tr>\n",
       "      <th>182438</th>\n",
       "      <td>SleepAnalysis</td>\n",
       "      <td>Claire</td>\n",
       "      <td>14.4.2</td>\n",
       "      <td>NaN</td>\n",
       "      <td>NaN</td>\n",
       "      <td>2021-12-15 07:00:12+01:00</td>\n",
       "      <td>2021-12-15 01:40:37+01:00</td>\n",
       "      <td>2021-12-15 07:00:12+01:00</td>\n",
       "      <td>1.0</td>\n",
       "      <td>0 days 05:19:35</td>\n",
       "    </tr>\n",
       "  </tbody>\n",
       "</table>\n",
       "<p>1007 rows × 10 columns</p>\n",
       "</div>"
      ],
      "text/plain": [
       "                 type sourceName sourceVersion device unit  \\\n",
       "181432  SleepAnalysis    Claire           14.2    NaN  NaN   \n",
       "181433  SleepAnalysis    Claire           14.2    NaN  NaN   \n",
       "181434  SleepAnalysis    Claire           14.2    NaN  NaN   \n",
       "181435  SleepAnalysis    Claire           14.2    NaN  NaN   \n",
       "181436  SleepAnalysis    Claire           14.2    NaN  NaN   \n",
       "...               ...        ...           ...    ...  ...   \n",
       "182434  SleepAnalysis    Claire         14.4.2    NaN  NaN   \n",
       "182435  SleepAnalysis    Claire         14.4.2    NaN  NaN   \n",
       "182436  SleepAnalysis    Claire         14.4.2    NaN  NaN   \n",
       "182437  SleepAnalysis    Claire         14.4.2    NaN  NaN   \n",
       "182438  SleepAnalysis    Claire         14.4.2    NaN  NaN   \n",
       "\n",
       "                    creationDate                 startDate  \\\n",
       "181432 2020-11-26 08:24:48+01:00 2020-11-25 23:45:00+01:00   \n",
       "181433 2020-11-26 08:24:48+01:00 2020-11-26 08:17:15+01:00   \n",
       "181434 2020-11-26 08:24:48+01:00 2020-11-26 08:20:25+01:00   \n",
       "181435 2020-11-26 08:24:48+01:00 2020-11-26 08:22:18+01:00   \n",
       "181436 2020-11-27 08:00:16+01:00 2020-11-27 00:18:59+01:00   \n",
       "...                          ...                       ...   \n",
       "182434 2021-12-14 08:15:02+01:00 2021-12-14 07:50:33+01:00   \n",
       "182435 2021-12-14 07:57:28+01:00 2021-12-14 07:54:53+01:00   \n",
       "182436 2021-12-14 08:15:02+01:00 2021-12-14 07:54:53+01:00   \n",
       "182437 2021-12-14 08:15:02+01:00 2021-12-14 07:59:14+01:00   \n",
       "182438 2021-12-15 07:00:12+01:00 2021-12-15 01:40:37+01:00   \n",
       "\n",
       "                         endDate  value        duration  \n",
       "181432 2020-11-26 08:15:21+01:00    1.0 0 days 08:30:21  \n",
       "181433 2020-11-26 08:20:09+01:00    1.0 0 days 00:02:54  \n",
       "181434 2020-11-26 08:20:32+01:00    1.0 0 days 00:00:07  \n",
       "181435 2020-11-26 08:24:48+01:00    1.0 0 days 00:02:30  \n",
       "181436 2020-11-27 08:00:16+01:00    1.0 0 days 07:41:17  \n",
       "...                          ...    ...             ...  \n",
       "182434 2021-12-14 07:54:15+01:00    1.0 0 days 00:03:42  \n",
       "182435 2021-12-14 07:56:34+01:00    1.0 0 days 00:01:41  \n",
       "182436 2021-12-14 07:56:34+01:00    1.0 0 days 00:01:41  \n",
       "182437 2021-12-14 08:15:02+01:00    1.0 0 days 00:15:48  \n",
       "182438 2021-12-15 07:00:12+01:00    1.0 0 days 05:19:35  \n",
       "\n",
       "[1007 rows x 10 columns]"
      ]
     },
     "execution_count": 14,
     "metadata": {},
     "output_type": "execute_result"
    }
   ],
   "source": [
    "sleep_data_claire"
   ]
  },
  {
   "cell_type": "code",
   "execution_count": 86,
   "id": "edda17ce",
   "metadata": {},
   "outputs": [],
   "source": [
    "sleep_data_claire_2 = sleep_data_claire.loc[sleep_data_claire['duration'] > dt.timedelta(hours = 3)]"
   ]
  },
  {
   "cell_type": "code",
   "execution_count": 87,
   "id": "6035a3cf",
   "metadata": {},
   "outputs": [],
   "source": [
    "sleep_data_claire_2.to_csv('sleep_data.csv')"
   ]
  },
  {
   "cell_type": "code",
   "execution_count": 88,
   "id": "a41ad571",
   "metadata": {},
   "outputs": [
    {
     "data": {
      "text/plain": [
       "Timedelta('0 days 06:52:08.545171339')"
      ]
     },
     "execution_count": 88,
     "metadata": {},
     "output_type": "execute_result"
    }
   ],
   "source": [
    "sleep_data_claire_2['duration'].mean()"
   ]
  },
  {
   "cell_type": "code",
   "execution_count": 20,
   "id": "fa316ea5",
   "metadata": {},
   "outputs": [],
   "source": [
    "sleep_2 = sleep_data_claire.sort_values('duration', ascending=True, ignore_index=True)"
   ]
  },
  {
   "cell_type": "code",
   "execution_count": 21,
   "id": "66e9cb59",
   "metadata": {},
   "outputs": [
    {
     "name": "stdout",
     "output_type": "stream",
     "text": [
      "               type sourceName sourceVersion device unit  \\\n",
      "0     SleepAnalysis    Claire         14.4.2    NaN  NaN   \n",
      "1     SleepAnalysis    Claire         14.4.2    NaN  NaN   \n",
      "2     SleepAnalysis    Claire         14.4.2    NaN  NaN   \n",
      "3     SleepAnalysis    Claire           14.4    NaN  NaN   \n",
      "4     SleepAnalysis    Claire         14.4.2    NaN  NaN   \n",
      "...             ...        ...           ...    ...  ...   \n",
      "1002  SleepAnalysis    Claire         14.4.2    NaN  NaN   \n",
      "1003  SleepAnalysis    Claire           14.2    NaN  NaN   \n",
      "1004  SleepAnalysis    Claire         14.4.1    NaN  NaN   \n",
      "1005  SleepAnalysis    Claire           14.2    NaN  NaN   \n",
      "1006  SleepAnalysis    Claire         14.4.2    NaN  NaN   \n",
      "\n",
      "                  creationDate                 startDate  \\\n",
      "0    2021-05-22 07:59:32+01:00 2021-05-22 07:59:20+01:00   \n",
      "1    2021-10-21 07:15:03+01:00 2021-10-21 07:01:40+01:00   \n",
      "2    2021-06-11 07:18:25+01:00 2021-06-11 07:09:36+01:00   \n",
      "3    2021-02-11 09:03:17+01:00 2021-02-11 08:58:18+01:00   \n",
      "4    2021-06-08 07:15:05+01:00 2021-06-08 07:10:06+01:00   \n",
      "...                        ...                       ...   \n",
      "1002 2021-06-20 09:15:41+01:00 2021-06-20 00:45:00+01:00   \n",
      "1003 2020-11-26 08:24:48+01:00 2020-11-25 23:45:00+01:00   \n",
      "1004 2021-04-07 07:33:13+01:00 2021-04-06 23:00:00+01:00   \n",
      "1005 2020-12-16 08:52:41+01:00 2020-12-15 23:57:33+01:00   \n",
      "1006 2021-08-01 09:30:16+01:00 2021-08-01 00:49:59+01:00   \n",
      "\n",
      "                       endDate  value        duration  \n",
      "0    2021-05-22 07:59:21+01:00    1.0 0 days 00:00:01  \n",
      "1    2021-10-21 07:01:41+01:00    1.0 0 days 00:00:01  \n",
      "2    2021-06-11 07:09:37+01:00    1.0 0 days 00:00:01  \n",
      "3    2021-02-11 08:58:19+01:00    1.0 0 days 00:00:01  \n",
      "4    2021-06-08 07:10:07+01:00    1.0 0 days 00:00:01  \n",
      "...                        ...    ...             ...  \n",
      "1002 2021-06-20 09:15:13+01:00    1.0 0 days 08:30:13  \n",
      "1003 2020-11-26 08:15:21+01:00    1.0 0 days 08:30:21  \n",
      "1004 2021-04-07 07:30:21+01:00    1.0 0 days 08:30:21  \n",
      "1005 2020-12-16 08:34:33+01:00    1.0 0 days 08:37:00  \n",
      "1006 2021-08-01 09:30:16+01:00    1.0 0 days 08:40:17  \n",
      "\n",
      "[1007 rows x 10 columns]\n"
     ]
    }
   ],
   "source": [
    "print(sleep_2)"
   ]
  },
  {
   "cell_type": "code",
   "execution_count": 20,
   "id": "16e4c46a",
   "metadata": {},
   "outputs": [],
   "source": [
    "health_data = data.loc[data['type'] != 'SleepAnalysis']"
   ]
  },
  {
   "cell_type": "code",
   "execution_count": 42,
   "id": "1ad5ebce",
   "metadata": {},
   "outputs": [
    {
     "name": "stderr",
     "output_type": "stream",
     "text": [
      "/var/folders/cx/j0xfy3qs2sb4hjcbwpn2qq240000gn/T/ipykernel_49749/4004055435.py:1: SettingWithCopyWarning: \n",
      "A value is trying to be set on a copy of a slice from a DataFrame.\n",
      "Try using .loc[row_indexer,col_indexer] = value instead\n",
      "\n",
      "See the caveats in the documentation: https://pandas.pydata.org/pandas-docs/stable/user_guide/indexing.html#returning-a-view-versus-a-copy\n",
      "  health_data['CreationDatebis'] = health_data['creationDate'].dt.date\n"
     ]
    },
    {
     "data": {
      "text/html": [
       "<div>\n",
       "<style scoped>\n",
       "    .dataframe tbody tr th:only-of-type {\n",
       "        vertical-align: middle;\n",
       "    }\n",
       "\n",
       "    .dataframe tbody tr th {\n",
       "        vertical-align: top;\n",
       "    }\n",
       "\n",
       "    .dataframe thead th {\n",
       "        text-align: right;\n",
       "    }\n",
       "</style>\n",
       "<table border=\"1\" class=\"dataframe\">\n",
       "  <thead>\n",
       "    <tr style=\"text-align: right;\">\n",
       "      <th></th>\n",
       "      <th>type</th>\n",
       "      <th>sourceName</th>\n",
       "      <th>sourceVersion</th>\n",
       "      <th>device</th>\n",
       "      <th>unit</th>\n",
       "      <th>creationDate</th>\n",
       "      <th>startDate</th>\n",
       "      <th>endDate</th>\n",
       "      <th>value</th>\n",
       "      <th>CreationDatebis</th>\n",
       "    </tr>\n",
       "  </thead>\n",
       "  <tbody>\n",
       "    <tr>\n",
       "      <th>0</th>\n",
       "      <td>StepCount</td>\n",
       "      <td>Claire</td>\n",
       "      <td>13.0</td>\n",
       "      <td>&lt;&lt;HKDevice: 0x282531540&gt;, name:iPhone, manufac...</td>\n",
       "      <td>count</td>\n",
       "      <td>2019-09-21 23:23:37+01:00</td>\n",
       "      <td>2019-09-21 23:12:34+01:00</td>\n",
       "      <td>2019-09-21 23:15:07+01:00</td>\n",
       "      <td>88.0</td>\n",
       "      <td>2019-09-21</td>\n",
       "    </tr>\n",
       "    <tr>\n",
       "      <th>1</th>\n",
       "      <td>StepCount</td>\n",
       "      <td>Claire</td>\n",
       "      <td>13.0</td>\n",
       "      <td>&lt;&lt;HKDevice: 0x282531540&gt;, name:iPhone, manufac...</td>\n",
       "      <td>count</td>\n",
       "      <td>2019-09-21 23:53:13+01:00</td>\n",
       "      <td>2019-09-21 23:42:10+01:00</td>\n",
       "      <td>2019-09-21 23:42:13+01:00</td>\n",
       "      <td>8.0</td>\n",
       "      <td>2019-09-21</td>\n",
       "    </tr>\n",
       "    <tr>\n",
       "      <th>2</th>\n",
       "      <td>StepCount</td>\n",
       "      <td>iPhone de Claire</td>\n",
       "      <td>12.1.3</td>\n",
       "      <td>&lt;&lt;HKDevice: 0x282530aa0&gt;, name:iPhone, manufac...</td>\n",
       "      <td>count</td>\n",
       "      <td>2019-02-02 20:06:09+01:00</td>\n",
       "      <td>2019-02-02 19:55:46+01:00</td>\n",
       "      <td>2019-02-02 20:05:18+01:00</td>\n",
       "      <td>450.0</td>\n",
       "      <td>2019-02-02</td>\n",
       "    </tr>\n",
       "    <tr>\n",
       "      <th>3</th>\n",
       "      <td>StepCount</td>\n",
       "      <td>iPhone de Claire</td>\n",
       "      <td>12.1.3</td>\n",
       "      <td>&lt;&lt;HKDevice: 0x282530aa0&gt;, name:iPhone, manufac...</td>\n",
       "      <td>count</td>\n",
       "      <td>2019-02-02 20:23:30+01:00</td>\n",
       "      <td>2019-02-02 20:05:18+01:00</td>\n",
       "      <td>2019-02-02 20:05:58+01:00</td>\n",
       "      <td>65.0</td>\n",
       "      <td>2019-02-02</td>\n",
       "    </tr>\n",
       "    <tr>\n",
       "      <th>4</th>\n",
       "      <td>StepCount</td>\n",
       "      <td>iPhone de Claire (2)</td>\n",
       "      <td>NaN</td>\n",
       "      <td>NaN</td>\n",
       "      <td>count</td>\n",
       "      <td>2015-05-07 23:07:36+01:00</td>\n",
       "      <td>2015-05-07 21:37:56+01:00</td>\n",
       "      <td>2015-05-07 21:38:04+01:00</td>\n",
       "      <td>26.0</td>\n",
       "      <td>2015-05-07</td>\n",
       "    </tr>\n",
       "    <tr>\n",
       "      <th>...</th>\n",
       "      <td>...</td>\n",
       "      <td>...</td>\n",
       "      <td>...</td>\n",
       "      <td>...</td>\n",
       "      <td>...</td>\n",
       "      <td>...</td>\n",
       "      <td>...</td>\n",
       "      <td>...</td>\n",
       "      <td>...</td>\n",
       "      <td>...</td>\n",
       "    </tr>\n",
       "    <tr>\n",
       "      <th>181315</th>\n",
       "      <td>WalkingAsymmetryPercentage</td>\n",
       "      <td>Claire</td>\n",
       "      <td>14.4.2</td>\n",
       "      <td>&lt;&lt;HKDevice: 0x2825d41e0&gt;, name:iPhone, manufac...</td>\n",
       "      <td>%</td>\n",
       "      <td>2021-12-15 19:11:10+01:00</td>\n",
       "      <td>2021-12-15 18:22:56+01:00</td>\n",
       "      <td>2021-12-15 18:25:05+01:00</td>\n",
       "      <td>0.0</td>\n",
       "      <td>2021-12-15</td>\n",
       "    </tr>\n",
       "    <tr>\n",
       "      <th>181316</th>\n",
       "      <td>WalkingAsymmetryPercentage</td>\n",
       "      <td>Claire</td>\n",
       "      <td>14.4.2</td>\n",
       "      <td>&lt;&lt;HKDevice: 0x2825d41e0&gt;, name:iPhone, manufac...</td>\n",
       "      <td>%</td>\n",
       "      <td>2021-12-15 19:11:10+01:00</td>\n",
       "      <td>2021-12-15 18:58:05+01:00</td>\n",
       "      <td>2021-12-15 18:59:04+01:00</td>\n",
       "      <td>0.0</td>\n",
       "      <td>2021-12-15</td>\n",
       "    </tr>\n",
       "    <tr>\n",
       "      <th>181317</th>\n",
       "      <td>WalkingAsymmetryPercentage</td>\n",
       "      <td>Claire</td>\n",
       "      <td>14.4.2</td>\n",
       "      <td>&lt;&lt;HKDevice: 0x2825d41e0&gt;, name:iPhone, manufac...</td>\n",
       "      <td>%</td>\n",
       "      <td>2021-12-15 21:45:05+01:00</td>\n",
       "      <td>2021-12-15 19:17:45+01:00</td>\n",
       "      <td>2021-12-15 19:18:05+01:00</td>\n",
       "      <td>0.0</td>\n",
       "      <td>2021-12-15</td>\n",
       "    </tr>\n",
       "    <tr>\n",
       "      <th>181318</th>\n",
       "      <td>WalkingAsymmetryPercentage</td>\n",
       "      <td>Claire</td>\n",
       "      <td>14.4.2</td>\n",
       "      <td>&lt;&lt;HKDevice: 0x2825d41e0&gt;, name:iPhone, manufac...</td>\n",
       "      <td>%</td>\n",
       "      <td>2021-12-15 21:45:05+01:00</td>\n",
       "      <td>2021-12-15 19:18:20+01:00</td>\n",
       "      <td>2021-12-15 19:18:44+01:00</td>\n",
       "      <td>0.0</td>\n",
       "      <td>2021-12-15</td>\n",
       "    </tr>\n",
       "    <tr>\n",
       "      <th>181319</th>\n",
       "      <td>HKDataTypeSleepDurationGoal</td>\n",
       "      <td>Santé</td>\n",
       "      <td>14.2</td>\n",
       "      <td>NaN</td>\n",
       "      <td>hr</td>\n",
       "      <td>2020-11-25 23:30:35+01:00</td>\n",
       "      <td>2020-11-25 23:30:35+01:00</td>\n",
       "      <td>2020-11-25 23:30:35+01:00</td>\n",
       "      <td>8.5</td>\n",
       "      <td>2020-11-25</td>\n",
       "    </tr>\n",
       "  </tbody>\n",
       "</table>\n",
       "<p>181320 rows × 10 columns</p>\n",
       "</div>"
      ],
      "text/plain": [
       "                               type            sourceName sourceVersion  \\\n",
       "0                         StepCount               Claire           13.0   \n",
       "1                         StepCount               Claire           13.0   \n",
       "2                         StepCount      iPhone de Claire        12.1.3   \n",
       "3                         StepCount      iPhone de Claire        12.1.3   \n",
       "4                         StepCount  iPhone de Claire (2)           NaN   \n",
       "...                             ...                   ...           ...   \n",
       "181315   WalkingAsymmetryPercentage               Claire         14.4.2   \n",
       "181316   WalkingAsymmetryPercentage               Claire         14.4.2   \n",
       "181317   WalkingAsymmetryPercentage               Claire         14.4.2   \n",
       "181318   WalkingAsymmetryPercentage               Claire         14.4.2   \n",
       "181319  HKDataTypeSleepDurationGoal                 Santé          14.2   \n",
       "\n",
       "                                                   device   unit  \\\n",
       "0       <<HKDevice: 0x282531540>, name:iPhone, manufac...  count   \n",
       "1       <<HKDevice: 0x282531540>, name:iPhone, manufac...  count   \n",
       "2       <<HKDevice: 0x282530aa0>, name:iPhone, manufac...  count   \n",
       "3       <<HKDevice: 0x282530aa0>, name:iPhone, manufac...  count   \n",
       "4                                                     NaN  count   \n",
       "...                                                   ...    ...   \n",
       "181315  <<HKDevice: 0x2825d41e0>, name:iPhone, manufac...      %   \n",
       "181316  <<HKDevice: 0x2825d41e0>, name:iPhone, manufac...      %   \n",
       "181317  <<HKDevice: 0x2825d41e0>, name:iPhone, manufac...      %   \n",
       "181318  <<HKDevice: 0x2825d41e0>, name:iPhone, manufac...      %   \n",
       "181319                                                NaN     hr   \n",
       "\n",
       "                    creationDate                 startDate  \\\n",
       "0      2019-09-21 23:23:37+01:00 2019-09-21 23:12:34+01:00   \n",
       "1      2019-09-21 23:53:13+01:00 2019-09-21 23:42:10+01:00   \n",
       "2      2019-02-02 20:06:09+01:00 2019-02-02 19:55:46+01:00   \n",
       "3      2019-02-02 20:23:30+01:00 2019-02-02 20:05:18+01:00   \n",
       "4      2015-05-07 23:07:36+01:00 2015-05-07 21:37:56+01:00   \n",
       "...                          ...                       ...   \n",
       "181315 2021-12-15 19:11:10+01:00 2021-12-15 18:22:56+01:00   \n",
       "181316 2021-12-15 19:11:10+01:00 2021-12-15 18:58:05+01:00   \n",
       "181317 2021-12-15 21:45:05+01:00 2021-12-15 19:17:45+01:00   \n",
       "181318 2021-12-15 21:45:05+01:00 2021-12-15 19:18:20+01:00   \n",
       "181319 2020-11-25 23:30:35+01:00 2020-11-25 23:30:35+01:00   \n",
       "\n",
       "                         endDate  value CreationDatebis  \n",
       "0      2019-09-21 23:15:07+01:00   88.0      2019-09-21  \n",
       "1      2019-09-21 23:42:13+01:00    8.0      2019-09-21  \n",
       "2      2019-02-02 20:05:18+01:00  450.0      2019-02-02  \n",
       "3      2019-02-02 20:05:58+01:00   65.0      2019-02-02  \n",
       "4      2015-05-07 21:38:04+01:00   26.0      2015-05-07  \n",
       "...                          ...    ...             ...  \n",
       "181315 2021-12-15 18:25:05+01:00    0.0      2021-12-15  \n",
       "181316 2021-12-15 18:59:04+01:00    0.0      2021-12-15  \n",
       "181317 2021-12-15 19:18:05+01:00    0.0      2021-12-15  \n",
       "181318 2021-12-15 19:18:44+01:00    0.0      2021-12-15  \n",
       "181319 2020-11-25 23:30:35+01:00    8.5      2020-11-25  \n",
       "\n",
       "[181320 rows x 10 columns]"
      ]
     },
     "execution_count": 42,
     "metadata": {},
     "output_type": "execute_result"
    }
   ],
   "source": [
    "health_data['CreationDatebis'] = health_data['creationDate'].dt.date\n",
    "health_data"
   ]
  },
  {
   "cell_type": "code",
   "execution_count": 67,
   "id": "1dd399b1",
   "metadata": {},
   "outputs": [],
   "source": [
    "health_data\n",
    "health_data.to_csv('health_data.csv') "
   ]
  },
  {
   "cell_type": "code",
   "execution_count": 43,
   "id": "7cd59eb3",
   "metadata": {},
   "outputs": [],
   "source": [
    "# health_data_steps are data related to step count\n",
    "health_data_steps = health_data.loc[health_data['type'] == 'StepCount']\n",
    "# health_data_distance are data related to Distance Walking and Running\n",
    "health_data_distance = health_data.loc[health_data['type'] == 'DistanceWalkingRunning']"
   ]
  },
  {
   "cell_type": "code",
   "execution_count": 89,
   "id": "d7add919",
   "metadata": {},
   "outputs": [
    {
     "name": "stdout",
     "output_type": "stream",
     "text": [
      "Daily average steps: 4966\n",
      "Daily average distance: 4\n"
     ]
    }
   ],
   "source": [
    "import math\n",
    "health_data_distance_grouped = health_data_distance.groupby(['CreationDatebis']).sum()\n",
    "health_data_steps_grouped = health_data_steps.groupby(['CreationDatebis']).sum()\n",
    "\n",
    "meandistance = str(math.ceil(health_data_distance_grouped.mean()[0]))\n",
    "meansteps = str(math.ceil(health_data_steps_grouped.mean()[0]))\n",
    "print ('Daily average steps:',meansteps)\n",
    "print('Daily average distance:', meandistance)"
   ]
  },
  {
   "cell_type": "code",
   "execution_count": 96,
   "id": "1ca54ed4",
   "metadata": {},
   "outputs": [
    {
     "data": {
      "text/html": [
       "<div>\n",
       "<style scoped>\n",
       "    .dataframe tbody tr th:only-of-type {\n",
       "        vertical-align: middle;\n",
       "    }\n",
       "\n",
       "    .dataframe tbody tr th {\n",
       "        vertical-align: top;\n",
       "    }\n",
       "\n",
       "    .dataframe thead th {\n",
       "        text-align: right;\n",
       "    }\n",
       "</style>\n",
       "<table border=\"1\" class=\"dataframe\">\n",
       "  <thead>\n",
       "    <tr style=\"text-align: right;\">\n",
       "      <th></th>\n",
       "      <th>type</th>\n",
       "      <th>sourceName</th>\n",
       "      <th>sourceVersion</th>\n",
       "      <th>device</th>\n",
       "      <th>unit</th>\n",
       "      <th>creationDate</th>\n",
       "      <th>startDate</th>\n",
       "      <th>endDate</th>\n",
       "      <th>value</th>\n",
       "      <th>CreationDatebis</th>\n",
       "    </tr>\n",
       "  </thead>\n",
       "  <tbody>\n",
       "  </tbody>\n",
       "</table>\n",
       "</div>"
      ],
      "text/plain": [
       "Empty DataFrame\n",
       "Columns: [type, sourceName, sourceVersion, device, unit, creationDate, startDate, endDate, value, CreationDatebis]\n",
       "Index: []"
      ]
     },
     "metadata": {},
     "output_type": "display_data"
    }
   ],
   "source": [
    "health_data_distance_2019 = health_data_distance.loc[health_data_distance['CreationDatebis']==2019]\n",
    "display(health_data_distance_2019)"
   ]
  },
  {
   "cell_type": "code",
   "execution_count": 93,
   "id": "b9448f5b",
   "metadata": {},
   "outputs": [
    {
     "data": {
      "application/vnd.plotly.v1+json": {
       "config": {
        "plotlyServerURL": "https://plot.ly"
       },
       "data": [],
       "layout": {
        "barmode": "relative",
        "legend": {
         "tracegroupgap": 0
        },
        "margin": {
         "t": 60
        },
        "template": {
         "data": {
          "bar": [
           {
            "error_x": {
             "color": "#2a3f5f"
            },
            "error_y": {
             "color": "#2a3f5f"
            },
            "marker": {
             "line": {
              "color": "#E5ECF6",
              "width": 0.5
             },
             "pattern": {
              "fillmode": "overlay",
              "size": 10,
              "solidity": 0.2
             }
            },
            "type": "bar"
           }
          ],
          "barpolar": [
           {
            "marker": {
             "line": {
              "color": "#E5ECF6",
              "width": 0.5
             },
             "pattern": {
              "fillmode": "overlay",
              "size": 10,
              "solidity": 0.2
             }
            },
            "type": "barpolar"
           }
          ],
          "carpet": [
           {
            "aaxis": {
             "endlinecolor": "#2a3f5f",
             "gridcolor": "white",
             "linecolor": "white",
             "minorgridcolor": "white",
             "startlinecolor": "#2a3f5f"
            },
            "baxis": {
             "endlinecolor": "#2a3f5f",
             "gridcolor": "white",
             "linecolor": "white",
             "minorgridcolor": "white",
             "startlinecolor": "#2a3f5f"
            },
            "type": "carpet"
           }
          ],
          "choropleth": [
           {
            "colorbar": {
             "outlinewidth": 0,
             "ticks": ""
            },
            "type": "choropleth"
           }
          ],
          "contour": [
           {
            "colorbar": {
             "outlinewidth": 0,
             "ticks": ""
            },
            "colorscale": [
             [
              0,
              "#0d0887"
             ],
             [
              0.1111111111111111,
              "#46039f"
             ],
             [
              0.2222222222222222,
              "#7201a8"
             ],
             [
              0.3333333333333333,
              "#9c179e"
             ],
             [
              0.4444444444444444,
              "#bd3786"
             ],
             [
              0.5555555555555556,
              "#d8576b"
             ],
             [
              0.6666666666666666,
              "#ed7953"
             ],
             [
              0.7777777777777778,
              "#fb9f3a"
             ],
             [
              0.8888888888888888,
              "#fdca26"
             ],
             [
              1,
              "#f0f921"
             ]
            ],
            "type": "contour"
           }
          ],
          "contourcarpet": [
           {
            "colorbar": {
             "outlinewidth": 0,
             "ticks": ""
            },
            "type": "contourcarpet"
           }
          ],
          "heatmap": [
           {
            "colorbar": {
             "outlinewidth": 0,
             "ticks": ""
            },
            "colorscale": [
             [
              0,
              "#0d0887"
             ],
             [
              0.1111111111111111,
              "#46039f"
             ],
             [
              0.2222222222222222,
              "#7201a8"
             ],
             [
              0.3333333333333333,
              "#9c179e"
             ],
             [
              0.4444444444444444,
              "#bd3786"
             ],
             [
              0.5555555555555556,
              "#d8576b"
             ],
             [
              0.6666666666666666,
              "#ed7953"
             ],
             [
              0.7777777777777778,
              "#fb9f3a"
             ],
             [
              0.8888888888888888,
              "#fdca26"
             ],
             [
              1,
              "#f0f921"
             ]
            ],
            "type": "heatmap"
           }
          ],
          "heatmapgl": [
           {
            "colorbar": {
             "outlinewidth": 0,
             "ticks": ""
            },
            "colorscale": [
             [
              0,
              "#0d0887"
             ],
             [
              0.1111111111111111,
              "#46039f"
             ],
             [
              0.2222222222222222,
              "#7201a8"
             ],
             [
              0.3333333333333333,
              "#9c179e"
             ],
             [
              0.4444444444444444,
              "#bd3786"
             ],
             [
              0.5555555555555556,
              "#d8576b"
             ],
             [
              0.6666666666666666,
              "#ed7953"
             ],
             [
              0.7777777777777778,
              "#fb9f3a"
             ],
             [
              0.8888888888888888,
              "#fdca26"
             ],
             [
              1,
              "#f0f921"
             ]
            ],
            "type": "heatmapgl"
           }
          ],
          "histogram": [
           {
            "marker": {
             "pattern": {
              "fillmode": "overlay",
              "size": 10,
              "solidity": 0.2
             }
            },
            "type": "histogram"
           }
          ],
          "histogram2d": [
           {
            "colorbar": {
             "outlinewidth": 0,
             "ticks": ""
            },
            "colorscale": [
             [
              0,
              "#0d0887"
             ],
             [
              0.1111111111111111,
              "#46039f"
             ],
             [
              0.2222222222222222,
              "#7201a8"
             ],
             [
              0.3333333333333333,
              "#9c179e"
             ],
             [
              0.4444444444444444,
              "#bd3786"
             ],
             [
              0.5555555555555556,
              "#d8576b"
             ],
             [
              0.6666666666666666,
              "#ed7953"
             ],
             [
              0.7777777777777778,
              "#fb9f3a"
             ],
             [
              0.8888888888888888,
              "#fdca26"
             ],
             [
              1,
              "#f0f921"
             ]
            ],
            "type": "histogram2d"
           }
          ],
          "histogram2dcontour": [
           {
            "colorbar": {
             "outlinewidth": 0,
             "ticks": ""
            },
            "colorscale": [
             [
              0,
              "#0d0887"
             ],
             [
              0.1111111111111111,
              "#46039f"
             ],
             [
              0.2222222222222222,
              "#7201a8"
             ],
             [
              0.3333333333333333,
              "#9c179e"
             ],
             [
              0.4444444444444444,
              "#bd3786"
             ],
             [
              0.5555555555555556,
              "#d8576b"
             ],
             [
              0.6666666666666666,
              "#ed7953"
             ],
             [
              0.7777777777777778,
              "#fb9f3a"
             ],
             [
              0.8888888888888888,
              "#fdca26"
             ],
             [
              1,
              "#f0f921"
             ]
            ],
            "type": "histogram2dcontour"
           }
          ],
          "mesh3d": [
           {
            "colorbar": {
             "outlinewidth": 0,
             "ticks": ""
            },
            "type": "mesh3d"
           }
          ],
          "parcoords": [
           {
            "line": {
             "colorbar": {
              "outlinewidth": 0,
              "ticks": ""
             }
            },
            "type": "parcoords"
           }
          ],
          "pie": [
           {
            "automargin": true,
            "type": "pie"
           }
          ],
          "scatter": [
           {
            "marker": {
             "colorbar": {
              "outlinewidth": 0,
              "ticks": ""
             }
            },
            "type": "scatter"
           }
          ],
          "scatter3d": [
           {
            "line": {
             "colorbar": {
              "outlinewidth": 0,
              "ticks": ""
             }
            },
            "marker": {
             "colorbar": {
              "outlinewidth": 0,
              "ticks": ""
             }
            },
            "type": "scatter3d"
           }
          ],
          "scattercarpet": [
           {
            "marker": {
             "colorbar": {
              "outlinewidth": 0,
              "ticks": ""
             }
            },
            "type": "scattercarpet"
           }
          ],
          "scattergeo": [
           {
            "marker": {
             "colorbar": {
              "outlinewidth": 0,
              "ticks": ""
             }
            },
            "type": "scattergeo"
           }
          ],
          "scattergl": [
           {
            "marker": {
             "colorbar": {
              "outlinewidth": 0,
              "ticks": ""
             }
            },
            "type": "scattergl"
           }
          ],
          "scattermapbox": [
           {
            "marker": {
             "colorbar": {
              "outlinewidth": 0,
              "ticks": ""
             }
            },
            "type": "scattermapbox"
           }
          ],
          "scatterpolar": [
           {
            "marker": {
             "colorbar": {
              "outlinewidth": 0,
              "ticks": ""
             }
            },
            "type": "scatterpolar"
           }
          ],
          "scatterpolargl": [
           {
            "marker": {
             "colorbar": {
              "outlinewidth": 0,
              "ticks": ""
             }
            },
            "type": "scatterpolargl"
           }
          ],
          "scatterternary": [
           {
            "marker": {
             "colorbar": {
              "outlinewidth": 0,
              "ticks": ""
             }
            },
            "type": "scatterternary"
           }
          ],
          "surface": [
           {
            "colorbar": {
             "outlinewidth": 0,
             "ticks": ""
            },
            "colorscale": [
             [
              0,
              "#0d0887"
             ],
             [
              0.1111111111111111,
              "#46039f"
             ],
             [
              0.2222222222222222,
              "#7201a8"
             ],
             [
              0.3333333333333333,
              "#9c179e"
             ],
             [
              0.4444444444444444,
              "#bd3786"
             ],
             [
              0.5555555555555556,
              "#d8576b"
             ],
             [
              0.6666666666666666,
              "#ed7953"
             ],
             [
              0.7777777777777778,
              "#fb9f3a"
             ],
             [
              0.8888888888888888,
              "#fdca26"
             ],
             [
              1,
              "#f0f921"
             ]
            ],
            "type": "surface"
           }
          ],
          "table": [
           {
            "cells": {
             "fill": {
              "color": "#EBF0F8"
             },
             "line": {
              "color": "white"
             }
            },
            "header": {
             "fill": {
              "color": "#C8D4E3"
             },
             "line": {
              "color": "white"
             }
            },
            "type": "table"
           }
          ]
         },
         "layout": {
          "annotationdefaults": {
           "arrowcolor": "#2a3f5f",
           "arrowhead": 0,
           "arrowwidth": 1
          },
          "autotypenumbers": "strict",
          "coloraxis": {
           "colorbar": {
            "outlinewidth": 0,
            "ticks": ""
           }
          },
          "colorscale": {
           "diverging": [
            [
             0,
             "#8e0152"
            ],
            [
             0.1,
             "#c51b7d"
            ],
            [
             0.2,
             "#de77ae"
            ],
            [
             0.3,
             "#f1b6da"
            ],
            [
             0.4,
             "#fde0ef"
            ],
            [
             0.5,
             "#f7f7f7"
            ],
            [
             0.6,
             "#e6f5d0"
            ],
            [
             0.7,
             "#b8e186"
            ],
            [
             0.8,
             "#7fbc41"
            ],
            [
             0.9,
             "#4d9221"
            ],
            [
             1,
             "#276419"
            ]
           ],
           "sequential": [
            [
             0,
             "#0d0887"
            ],
            [
             0.1111111111111111,
             "#46039f"
            ],
            [
             0.2222222222222222,
             "#7201a8"
            ],
            [
             0.3333333333333333,
             "#9c179e"
            ],
            [
             0.4444444444444444,
             "#bd3786"
            ],
            [
             0.5555555555555556,
             "#d8576b"
            ],
            [
             0.6666666666666666,
             "#ed7953"
            ],
            [
             0.7777777777777778,
             "#fb9f3a"
            ],
            [
             0.8888888888888888,
             "#fdca26"
            ],
            [
             1,
             "#f0f921"
            ]
           ],
           "sequentialminus": [
            [
             0,
             "#0d0887"
            ],
            [
             0.1111111111111111,
             "#46039f"
            ],
            [
             0.2222222222222222,
             "#7201a8"
            ],
            [
             0.3333333333333333,
             "#9c179e"
            ],
            [
             0.4444444444444444,
             "#bd3786"
            ],
            [
             0.5555555555555556,
             "#d8576b"
            ],
            [
             0.6666666666666666,
             "#ed7953"
            ],
            [
             0.7777777777777778,
             "#fb9f3a"
            ],
            [
             0.8888888888888888,
             "#fdca26"
            ],
            [
             1,
             "#f0f921"
            ]
           ]
          },
          "colorway": [
           "#636efa",
           "#EF553B",
           "#00cc96",
           "#ab63fa",
           "#FFA15A",
           "#19d3f3",
           "#FF6692",
           "#B6E880",
           "#FF97FF",
           "#FECB52"
          ],
          "font": {
           "color": "#2a3f5f"
          },
          "geo": {
           "bgcolor": "white",
           "lakecolor": "white",
           "landcolor": "#E5ECF6",
           "showlakes": true,
           "showland": true,
           "subunitcolor": "white"
          },
          "hoverlabel": {
           "align": "left"
          },
          "hovermode": "closest",
          "mapbox": {
           "style": "light"
          },
          "paper_bgcolor": "white",
          "plot_bgcolor": "#E5ECF6",
          "polar": {
           "angularaxis": {
            "gridcolor": "white",
            "linecolor": "white",
            "ticks": ""
           },
           "bgcolor": "#E5ECF6",
           "radialaxis": {
            "gridcolor": "white",
            "linecolor": "white",
            "ticks": ""
           }
          },
          "scene": {
           "xaxis": {
            "backgroundcolor": "#E5ECF6",
            "gridcolor": "white",
            "gridwidth": 2,
            "linecolor": "white",
            "showbackground": true,
            "ticks": "",
            "zerolinecolor": "white"
           },
           "yaxis": {
            "backgroundcolor": "#E5ECF6",
            "gridcolor": "white",
            "gridwidth": 2,
            "linecolor": "white",
            "showbackground": true,
            "ticks": "",
            "zerolinecolor": "white"
           },
           "zaxis": {
            "backgroundcolor": "#E5ECF6",
            "gridcolor": "white",
            "gridwidth": 2,
            "linecolor": "white",
            "showbackground": true,
            "ticks": "",
            "zerolinecolor": "white"
           }
          },
          "shapedefaults": {
           "line": {
            "color": "#2a3f5f"
           }
          },
          "ternary": {
           "aaxis": {
            "gridcolor": "white",
            "linecolor": "white",
            "ticks": ""
           },
           "baxis": {
            "gridcolor": "white",
            "linecolor": "white",
            "ticks": ""
           },
           "bgcolor": "#E5ECF6",
           "caxis": {
            "gridcolor": "white",
            "linecolor": "white",
            "ticks": ""
           }
          },
          "title": {
           "x": 0.05
          },
          "xaxis": {
           "automargin": true,
           "gridcolor": "white",
           "linecolor": "white",
           "ticks": "",
           "title": {
            "standoff": 15
           },
           "zerolinecolor": "white",
           "zerolinewidth": 2
          },
          "yaxis": {
           "automargin": true,
           "gridcolor": "white",
           "linecolor": "white",
           "ticks": "",
           "title": {
            "standoff": 15
           },
           "zerolinecolor": "white",
           "zerolinewidth": 2
          }
         }
        },
        "xaxis": {
         "anchor": "y",
         "domain": [
          0,
          1
         ],
         "title": {
          "text": "CreationDatebis"
         }
        },
        "yaxis": {
         "anchor": "x",
         "domain": [
          0,
          1
         ],
         "title": {
          "text": "value"
         }
        }
       }
      },
      "text/html": [
       "<div>                            <div id=\"c1a74170-5da1-4e8c-86d7-068962addde6\" class=\"plotly-graph-div\" style=\"height:525px; width:100%;\"></div>            <script type=\"text/javascript\">                require([\"plotly\"], function(Plotly) {                    window.PLOTLYENV=window.PLOTLYENV || {};                                    if (document.getElementById(\"c1a74170-5da1-4e8c-86d7-068962addde6\")) {                    Plotly.newPlot(                        \"c1a74170-5da1-4e8c-86d7-068962addde6\",                        [],                        {\"template\":{\"data\":{\"bar\":[{\"error_x\":{\"color\":\"#2a3f5f\"},\"error_y\":{\"color\":\"#2a3f5f\"},\"marker\":{\"line\":{\"color\":\"#E5ECF6\",\"width\":0.5},\"pattern\":{\"fillmode\":\"overlay\",\"size\":10,\"solidity\":0.2}},\"type\":\"bar\"}],\"barpolar\":[{\"marker\":{\"line\":{\"color\":\"#E5ECF6\",\"width\":0.5},\"pattern\":{\"fillmode\":\"overlay\",\"size\":10,\"solidity\":0.2}},\"type\":\"barpolar\"}],\"carpet\":[{\"aaxis\":{\"endlinecolor\":\"#2a3f5f\",\"gridcolor\":\"white\",\"linecolor\":\"white\",\"minorgridcolor\":\"white\",\"startlinecolor\":\"#2a3f5f\"},\"baxis\":{\"endlinecolor\":\"#2a3f5f\",\"gridcolor\":\"white\",\"linecolor\":\"white\",\"minorgridcolor\":\"white\",\"startlinecolor\":\"#2a3f5f\"},\"type\":\"carpet\"}],\"choropleth\":[{\"colorbar\":{\"outlinewidth\":0,\"ticks\":\"\"},\"type\":\"choropleth\"}],\"contour\":[{\"colorbar\":{\"outlinewidth\":0,\"ticks\":\"\"},\"colorscale\":[[0.0,\"#0d0887\"],[0.1111111111111111,\"#46039f\"],[0.2222222222222222,\"#7201a8\"],[0.3333333333333333,\"#9c179e\"],[0.4444444444444444,\"#bd3786\"],[0.5555555555555556,\"#d8576b\"],[0.6666666666666666,\"#ed7953\"],[0.7777777777777778,\"#fb9f3a\"],[0.8888888888888888,\"#fdca26\"],[1.0,\"#f0f921\"]],\"type\":\"contour\"}],\"contourcarpet\":[{\"colorbar\":{\"outlinewidth\":0,\"ticks\":\"\"},\"type\":\"contourcarpet\"}],\"heatmap\":[{\"colorbar\":{\"outlinewidth\":0,\"ticks\":\"\"},\"colorscale\":[[0.0,\"#0d0887\"],[0.1111111111111111,\"#46039f\"],[0.2222222222222222,\"#7201a8\"],[0.3333333333333333,\"#9c179e\"],[0.4444444444444444,\"#bd3786\"],[0.5555555555555556,\"#d8576b\"],[0.6666666666666666,\"#ed7953\"],[0.7777777777777778,\"#fb9f3a\"],[0.8888888888888888,\"#fdca26\"],[1.0,\"#f0f921\"]],\"type\":\"heatmap\"}],\"heatmapgl\":[{\"colorbar\":{\"outlinewidth\":0,\"ticks\":\"\"},\"colorscale\":[[0.0,\"#0d0887\"],[0.1111111111111111,\"#46039f\"],[0.2222222222222222,\"#7201a8\"],[0.3333333333333333,\"#9c179e\"],[0.4444444444444444,\"#bd3786\"],[0.5555555555555556,\"#d8576b\"],[0.6666666666666666,\"#ed7953\"],[0.7777777777777778,\"#fb9f3a\"],[0.8888888888888888,\"#fdca26\"],[1.0,\"#f0f921\"]],\"type\":\"heatmapgl\"}],\"histogram\":[{\"marker\":{\"pattern\":{\"fillmode\":\"overlay\",\"size\":10,\"solidity\":0.2}},\"type\":\"histogram\"}],\"histogram2d\":[{\"colorbar\":{\"outlinewidth\":0,\"ticks\":\"\"},\"colorscale\":[[0.0,\"#0d0887\"],[0.1111111111111111,\"#46039f\"],[0.2222222222222222,\"#7201a8\"],[0.3333333333333333,\"#9c179e\"],[0.4444444444444444,\"#bd3786\"],[0.5555555555555556,\"#d8576b\"],[0.6666666666666666,\"#ed7953\"],[0.7777777777777778,\"#fb9f3a\"],[0.8888888888888888,\"#fdca26\"],[1.0,\"#f0f921\"]],\"type\":\"histogram2d\"}],\"histogram2dcontour\":[{\"colorbar\":{\"outlinewidth\":0,\"ticks\":\"\"},\"colorscale\":[[0.0,\"#0d0887\"],[0.1111111111111111,\"#46039f\"],[0.2222222222222222,\"#7201a8\"],[0.3333333333333333,\"#9c179e\"],[0.4444444444444444,\"#bd3786\"],[0.5555555555555556,\"#d8576b\"],[0.6666666666666666,\"#ed7953\"],[0.7777777777777778,\"#fb9f3a\"],[0.8888888888888888,\"#fdca26\"],[1.0,\"#f0f921\"]],\"type\":\"histogram2dcontour\"}],\"mesh3d\":[{\"colorbar\":{\"outlinewidth\":0,\"ticks\":\"\"},\"type\":\"mesh3d\"}],\"parcoords\":[{\"line\":{\"colorbar\":{\"outlinewidth\":0,\"ticks\":\"\"}},\"type\":\"parcoords\"}],\"pie\":[{\"automargin\":true,\"type\":\"pie\"}],\"scatter\":[{\"marker\":{\"colorbar\":{\"outlinewidth\":0,\"ticks\":\"\"}},\"type\":\"scatter\"}],\"scatter3d\":[{\"line\":{\"colorbar\":{\"outlinewidth\":0,\"ticks\":\"\"}},\"marker\":{\"colorbar\":{\"outlinewidth\":0,\"ticks\":\"\"}},\"type\":\"scatter3d\"}],\"scattercarpet\":[{\"marker\":{\"colorbar\":{\"outlinewidth\":0,\"ticks\":\"\"}},\"type\":\"scattercarpet\"}],\"scattergeo\":[{\"marker\":{\"colorbar\":{\"outlinewidth\":0,\"ticks\":\"\"}},\"type\":\"scattergeo\"}],\"scattergl\":[{\"marker\":{\"colorbar\":{\"outlinewidth\":0,\"ticks\":\"\"}},\"type\":\"scattergl\"}],\"scattermapbox\":[{\"marker\":{\"colorbar\":{\"outlinewidth\":0,\"ticks\":\"\"}},\"type\":\"scattermapbox\"}],\"scatterpolar\":[{\"marker\":{\"colorbar\":{\"outlinewidth\":0,\"ticks\":\"\"}},\"type\":\"scatterpolar\"}],\"scatterpolargl\":[{\"marker\":{\"colorbar\":{\"outlinewidth\":0,\"ticks\":\"\"}},\"type\":\"scatterpolargl\"}],\"scatterternary\":[{\"marker\":{\"colorbar\":{\"outlinewidth\":0,\"ticks\":\"\"}},\"type\":\"scatterternary\"}],\"surface\":[{\"colorbar\":{\"outlinewidth\":0,\"ticks\":\"\"},\"colorscale\":[[0.0,\"#0d0887\"],[0.1111111111111111,\"#46039f\"],[0.2222222222222222,\"#7201a8\"],[0.3333333333333333,\"#9c179e\"],[0.4444444444444444,\"#bd3786\"],[0.5555555555555556,\"#d8576b\"],[0.6666666666666666,\"#ed7953\"],[0.7777777777777778,\"#fb9f3a\"],[0.8888888888888888,\"#fdca26\"],[1.0,\"#f0f921\"]],\"type\":\"surface\"}],\"table\":[{\"cells\":{\"fill\":{\"color\":\"#EBF0F8\"},\"line\":{\"color\":\"white\"}},\"header\":{\"fill\":{\"color\":\"#C8D4E3\"},\"line\":{\"color\":\"white\"}},\"type\":\"table\"}]},\"layout\":{\"annotationdefaults\":{\"arrowcolor\":\"#2a3f5f\",\"arrowhead\":0,\"arrowwidth\":1},\"autotypenumbers\":\"strict\",\"coloraxis\":{\"colorbar\":{\"outlinewidth\":0,\"ticks\":\"\"}},\"colorscale\":{\"diverging\":[[0,\"#8e0152\"],[0.1,\"#c51b7d\"],[0.2,\"#de77ae\"],[0.3,\"#f1b6da\"],[0.4,\"#fde0ef\"],[0.5,\"#f7f7f7\"],[0.6,\"#e6f5d0\"],[0.7,\"#b8e186\"],[0.8,\"#7fbc41\"],[0.9,\"#4d9221\"],[1,\"#276419\"]],\"sequential\":[[0.0,\"#0d0887\"],[0.1111111111111111,\"#46039f\"],[0.2222222222222222,\"#7201a8\"],[0.3333333333333333,\"#9c179e\"],[0.4444444444444444,\"#bd3786\"],[0.5555555555555556,\"#d8576b\"],[0.6666666666666666,\"#ed7953\"],[0.7777777777777778,\"#fb9f3a\"],[0.8888888888888888,\"#fdca26\"],[1.0,\"#f0f921\"]],\"sequentialminus\":[[0.0,\"#0d0887\"],[0.1111111111111111,\"#46039f\"],[0.2222222222222222,\"#7201a8\"],[0.3333333333333333,\"#9c179e\"],[0.4444444444444444,\"#bd3786\"],[0.5555555555555556,\"#d8576b\"],[0.6666666666666666,\"#ed7953\"],[0.7777777777777778,\"#fb9f3a\"],[0.8888888888888888,\"#fdca26\"],[1.0,\"#f0f921\"]]},\"colorway\":[\"#636efa\",\"#EF553B\",\"#00cc96\",\"#ab63fa\",\"#FFA15A\",\"#19d3f3\",\"#FF6692\",\"#B6E880\",\"#FF97FF\",\"#FECB52\"],\"font\":{\"color\":\"#2a3f5f\"},\"geo\":{\"bgcolor\":\"white\",\"lakecolor\":\"white\",\"landcolor\":\"#E5ECF6\",\"showlakes\":true,\"showland\":true,\"subunitcolor\":\"white\"},\"hoverlabel\":{\"align\":\"left\"},\"hovermode\":\"closest\",\"mapbox\":{\"style\":\"light\"},\"paper_bgcolor\":\"white\",\"plot_bgcolor\":\"#E5ECF6\",\"polar\":{\"angularaxis\":{\"gridcolor\":\"white\",\"linecolor\":\"white\",\"ticks\":\"\"},\"bgcolor\":\"#E5ECF6\",\"radialaxis\":{\"gridcolor\":\"white\",\"linecolor\":\"white\",\"ticks\":\"\"}},\"scene\":{\"xaxis\":{\"backgroundcolor\":\"#E5ECF6\",\"gridcolor\":\"white\",\"gridwidth\":2,\"linecolor\":\"white\",\"showbackground\":true,\"ticks\":\"\",\"zerolinecolor\":\"white\"},\"yaxis\":{\"backgroundcolor\":\"#E5ECF6\",\"gridcolor\":\"white\",\"gridwidth\":2,\"linecolor\":\"white\",\"showbackground\":true,\"ticks\":\"\",\"zerolinecolor\":\"white\"},\"zaxis\":{\"backgroundcolor\":\"#E5ECF6\",\"gridcolor\":\"white\",\"gridwidth\":2,\"linecolor\":\"white\",\"showbackground\":true,\"ticks\":\"\",\"zerolinecolor\":\"white\"}},\"shapedefaults\":{\"line\":{\"color\":\"#2a3f5f\"}},\"ternary\":{\"aaxis\":{\"gridcolor\":\"white\",\"linecolor\":\"white\",\"ticks\":\"\"},\"baxis\":{\"gridcolor\":\"white\",\"linecolor\":\"white\",\"ticks\":\"\"},\"bgcolor\":\"#E5ECF6\",\"caxis\":{\"gridcolor\":\"white\",\"linecolor\":\"white\",\"ticks\":\"\"}},\"title\":{\"x\":0.05},\"xaxis\":{\"automargin\":true,\"gridcolor\":\"white\",\"linecolor\":\"white\",\"ticks\":\"\",\"title\":{\"standoff\":15},\"zerolinecolor\":\"white\",\"zerolinewidth\":2},\"yaxis\":{\"automargin\":true,\"gridcolor\":\"white\",\"linecolor\":\"white\",\"ticks\":\"\",\"title\":{\"standoff\":15},\"zerolinecolor\":\"white\",\"zerolinewidth\":2}}},\"xaxis\":{\"anchor\":\"y\",\"domain\":[0.0,1.0],\"title\":{\"text\":\"CreationDatebis\"}},\"yaxis\":{\"anchor\":\"x\",\"domain\":[0.0,1.0],\"title\":{\"text\":\"value\"}},\"legend\":{\"tracegroupgap\":0},\"margin\":{\"t\":60},\"barmode\":\"relative\"},                        {\"responsive\": true}                    ).then(function(){\n",
       "                            \n",
       "var gd = document.getElementById('c1a74170-5da1-4e8c-86d7-068962addde6');\n",
       "var x = new MutationObserver(function (mutations, observer) {{\n",
       "        var display = window.getComputedStyle(gd).display;\n",
       "        if (!display || display === 'none') {{\n",
       "            console.log([gd, 'removed!']);\n",
       "            Plotly.purge(gd);\n",
       "            observer.disconnect();\n",
       "        }}\n",
       "}});\n",
       "\n",
       "// Listen for the removal of the full notebook cells\n",
       "var notebookContainer = gd.closest('#notebook-container');\n",
       "if (notebookContainer) {{\n",
       "    x.observe(notebookContainer, {childList: true});\n",
       "}}\n",
       "\n",
       "// Listen for the clearing of the current output cell\n",
       "var outputEl = gd.closest('.output');\n",
       "if (outputEl) {{\n",
       "    x.observe(outputEl, {childList: true});\n",
       "}}\n",
       "\n",
       "                        })                };                });            </script>        </div>"
      ]
     },
     "metadata": {},
     "output_type": "display_data"
    }
   ],
   "source": [
    "import plotly.express as px\n",
    "fig = px.bar(New_df, x='CreationDatebis', y='value')\n",
    "fig.show()"
   ]
  },
  {
   "cell_type": "code",
   "execution_count": 77,
   "id": "d47f96b6",
   "metadata": {},
   "outputs": [
    {
     "data": {
      "text/html": [
       "<div>\n",
       "<style scoped>\n",
       "    .dataframe tbody tr th:only-of-type {\n",
       "        vertical-align: middle;\n",
       "    }\n",
       "\n",
       "    .dataframe tbody tr th {\n",
       "        vertical-align: top;\n",
       "    }\n",
       "\n",
       "    .dataframe thead th {\n",
       "        text-align: right;\n",
       "    }\n",
       "</style>\n",
       "<table border=\"1\" class=\"dataframe\">\n",
       "  <thead>\n",
       "    <tr style=\"text-align: right;\">\n",
       "      <th></th>\n",
       "      <th>value</th>\n",
       "    </tr>\n",
       "    <tr>\n",
       "      <th>CreationDatebis</th>\n",
       "      <th></th>\n",
       "    </tr>\n",
       "  </thead>\n",
       "  <tbody>\n",
       "    <tr>\n",
       "      <th>2015-05-07</th>\n",
       "      <td>26.0</td>\n",
       "    </tr>\n",
       "    <tr>\n",
       "      <th>2015-06-07</th>\n",
       "      <td>620.0</td>\n",
       "    </tr>\n",
       "    <tr>\n",
       "      <th>2015-06-08</th>\n",
       "      <td>501.0</td>\n",
       "    </tr>\n",
       "    <tr>\n",
       "      <th>2015-06-09</th>\n",
       "      <td>6785.0</td>\n",
       "    </tr>\n",
       "    <tr>\n",
       "      <th>2015-06-10</th>\n",
       "      <td>4179.0</td>\n",
       "    </tr>\n",
       "    <tr>\n",
       "      <th>...</th>\n",
       "      <td>...</td>\n",
       "    </tr>\n",
       "    <tr>\n",
       "      <th>2021-12-11</th>\n",
       "      <td>3024.0</td>\n",
       "    </tr>\n",
       "    <tr>\n",
       "      <th>2021-12-12</th>\n",
       "      <td>450.0</td>\n",
       "    </tr>\n",
       "    <tr>\n",
       "      <th>2021-12-13</th>\n",
       "      <td>437.0</td>\n",
       "    </tr>\n",
       "    <tr>\n",
       "      <th>2021-12-14</th>\n",
       "      <td>3967.0</td>\n",
       "    </tr>\n",
       "    <tr>\n",
       "      <th>2021-12-15</th>\n",
       "      <td>6577.0</td>\n",
       "    </tr>\n",
       "  </tbody>\n",
       "</table>\n",
       "<p>2141 rows × 1 columns</p>\n",
       "</div>"
      ],
      "text/plain": [
       "                  value\n",
       "CreationDatebis        \n",
       "2015-05-07         26.0\n",
       "2015-06-07        620.0\n",
       "2015-06-08        501.0\n",
       "2015-06-09       6785.0\n",
       "2015-06-10       4179.0\n",
       "...                 ...\n",
       "2021-12-11       3024.0\n",
       "2021-12-12        450.0\n",
       "2021-12-13        437.0\n",
       "2021-12-14       3967.0\n",
       "2021-12-15       6577.0\n",
       "\n",
       "[2141 rows x 1 columns]"
      ]
     },
     "execution_count": 77,
     "metadata": {},
     "output_type": "execute_result"
    }
   ],
   "source": [
    "health_data_steps_grouped"
   ]
  },
  {
   "cell_type": "code",
   "execution_count": 79,
   "id": "a2c14679",
   "metadata": {},
   "outputs": [
    {
     "data": {
      "text/html": [
       "<div>\n",
       "<style scoped>\n",
       "    .dataframe tbody tr th:only-of-type {\n",
       "        vertical-align: middle;\n",
       "    }\n",
       "\n",
       "    .dataframe tbody tr th {\n",
       "        vertical-align: top;\n",
       "    }\n",
       "\n",
       "    .dataframe thead th {\n",
       "        text-align: right;\n",
       "    }\n",
       "</style>\n",
       "<table border=\"1\" class=\"dataframe\">\n",
       "  <thead>\n",
       "    <tr style=\"text-align: right;\">\n",
       "      <th></th>\n",
       "      <th>type</th>\n",
       "      <th>sourceName</th>\n",
       "      <th>sourceVersion</th>\n",
       "      <th>device</th>\n",
       "      <th>unit</th>\n",
       "      <th>creationDate</th>\n",
       "      <th>startDate</th>\n",
       "      <th>endDate</th>\n",
       "      <th>value</th>\n",
       "      <th>CreationDatebis</th>\n",
       "    </tr>\n",
       "  </thead>\n",
       "  <tbody>\n",
       "    <tr>\n",
       "      <th>56673</th>\n",
       "      <td>DistanceWalkingRunning</td>\n",
       "      <td>Claire</td>\n",
       "      <td>13.0</td>\n",
       "      <td>&lt;&lt;HKDevice: 0x2825dc0a0&gt;, name:iPhone, manufac...</td>\n",
       "      <td>km</td>\n",
       "      <td>2019-09-21 23:23:37+01:00</td>\n",
       "      <td>2019-09-21 23:12:34+01:00</td>\n",
       "      <td>2019-09-21 23:15:07+01:00</td>\n",
       "      <td>0.06509</td>\n",
       "      <td>2019-09-21</td>\n",
       "    </tr>\n",
       "    <tr>\n",
       "      <th>56674</th>\n",
       "      <td>DistanceWalkingRunning</td>\n",
       "      <td>Claire</td>\n",
       "      <td>13.0</td>\n",
       "      <td>&lt;&lt;HKDevice: 0x2825dc0a0&gt;, name:iPhone, manufac...</td>\n",
       "      <td>km</td>\n",
       "      <td>2019-09-21 23:53:13+01:00</td>\n",
       "      <td>2019-09-21 23:42:10+01:00</td>\n",
       "      <td>2019-09-21 23:42:13+01:00</td>\n",
       "      <td>0.00600</td>\n",
       "      <td>2019-09-21</td>\n",
       "    </tr>\n",
       "    <tr>\n",
       "      <th>56675</th>\n",
       "      <td>DistanceWalkingRunning</td>\n",
       "      <td>iPhone de Claire</td>\n",
       "      <td>12.1.3</td>\n",
       "      <td>&lt;&lt;HKDevice: 0x2825dd0e0&gt;, name:iPhone, manufac...</td>\n",
       "      <td>km</td>\n",
       "      <td>2019-02-02 20:06:09+01:00</td>\n",
       "      <td>2019-02-02 19:55:46+01:00</td>\n",
       "      <td>2019-02-02 20:05:18+01:00</td>\n",
       "      <td>0.32956</td>\n",
       "      <td>2019-02-02</td>\n",
       "    </tr>\n",
       "    <tr>\n",
       "      <th>56676</th>\n",
       "      <td>DistanceWalkingRunning</td>\n",
       "      <td>iPhone de Claire</td>\n",
       "      <td>12.1.3</td>\n",
       "      <td>&lt;&lt;HKDevice: 0x2825dd0e0&gt;, name:iPhone, manufac...</td>\n",
       "      <td>km</td>\n",
       "      <td>2019-02-02 20:23:29+01:00</td>\n",
       "      <td>2019-02-02 20:05:18+01:00</td>\n",
       "      <td>2019-02-02 20:05:48+01:00</td>\n",
       "      <td>0.04504</td>\n",
       "      <td>2019-02-02</td>\n",
       "    </tr>\n",
       "    <tr>\n",
       "      <th>56677</th>\n",
       "      <td>DistanceWalkingRunning</td>\n",
       "      <td>iPhone de Claire (2)</td>\n",
       "      <td>NaN</td>\n",
       "      <td>NaN</td>\n",
       "      <td>km</td>\n",
       "      <td>2015-05-07 23:07:36+01:00</td>\n",
       "      <td>2015-05-07 21:37:56+01:00</td>\n",
       "      <td>2015-05-07 21:38:04+01:00</td>\n",
       "      <td>0.01362</td>\n",
       "      <td>2015-05-07</td>\n",
       "    </tr>\n",
       "    <tr>\n",
       "      <th>...</th>\n",
       "      <td>...</td>\n",
       "      <td>...</td>\n",
       "      <td>...</td>\n",
       "      <td>...</td>\n",
       "      <td>...</td>\n",
       "      <td>...</td>\n",
       "      <td>...</td>\n",
       "      <td>...</td>\n",
       "      <td>...</td>\n",
       "      <td>...</td>\n",
       "    </tr>\n",
       "    <tr>\n",
       "      <th>123440</th>\n",
       "      <td>DistanceWalkingRunning</td>\n",
       "      <td>Claire</td>\n",
       "      <td>14.4.2</td>\n",
       "      <td>&lt;&lt;HKDevice: 0x2825dbc00&gt;, name:iPhone, manufac...</td>\n",
       "      <td>km</td>\n",
       "      <td>2021-12-15 18:55:37+01:00</td>\n",
       "      <td>2021-12-15 18:44:11+01:00</td>\n",
       "      <td>2021-12-15 18:50:43+01:00</td>\n",
       "      <td>0.12267</td>\n",
       "      <td>2021-12-15</td>\n",
       "    </tr>\n",
       "    <tr>\n",
       "      <th>123441</th>\n",
       "      <td>DistanceWalkingRunning</td>\n",
       "      <td>Claire</td>\n",
       "      <td>14.4.2</td>\n",
       "      <td>&lt;&lt;HKDevice: 0x2825dbc00&gt;, name:iPhone, manufac...</td>\n",
       "      <td>km</td>\n",
       "      <td>2021-12-15 19:09:02+01:00</td>\n",
       "      <td>2021-12-15 18:57:59+01:00</td>\n",
       "      <td>2021-12-15 19:07:55+01:00</td>\n",
       "      <td>0.25321</td>\n",
       "      <td>2021-12-15</td>\n",
       "    </tr>\n",
       "    <tr>\n",
       "      <th>123442</th>\n",
       "      <td>DistanceWalkingRunning</td>\n",
       "      <td>Claire</td>\n",
       "      <td>14.4.2</td>\n",
       "      <td>&lt;&lt;HKDevice: 0x2825dbc00&gt;, name:iPhone, manufac...</td>\n",
       "      <td>km</td>\n",
       "      <td>2021-12-15 19:31:37+01:00</td>\n",
       "      <td>2021-12-15 19:13:39+01:00</td>\n",
       "      <td>2021-12-15 19:20:25+01:00</td>\n",
       "      <td>0.30467</td>\n",
       "      <td>2021-12-15</td>\n",
       "    </tr>\n",
       "    <tr>\n",
       "      <th>123443</th>\n",
       "      <td>DistanceWalkingRunning</td>\n",
       "      <td>Claire</td>\n",
       "      <td>14.4.2</td>\n",
       "      <td>&lt;&lt;HKDevice: 0x2825dbc00&gt;, name:iPhone, manufac...</td>\n",
       "      <td>km</td>\n",
       "      <td>2021-12-15 20:02:07+01:00</td>\n",
       "      <td>2021-12-15 19:47:43+01:00</td>\n",
       "      <td>2021-12-15 19:47:46+01:00</td>\n",
       "      <td>0.00900</td>\n",
       "      <td>2021-12-15</td>\n",
       "    </tr>\n",
       "    <tr>\n",
       "      <th>123444</th>\n",
       "      <td>DistanceWalkingRunning</td>\n",
       "      <td>Claire</td>\n",
       "      <td>14.4.2</td>\n",
       "      <td>&lt;&lt;HKDevice: 0x2825dbc00&gt;, name:iPhone, manufac...</td>\n",
       "      <td>km</td>\n",
       "      <td>2021-12-15 22:20:10+01:00</td>\n",
       "      <td>2021-12-15 22:09:07+01:00</td>\n",
       "      <td>2021-12-15 22:09:10+01:00</td>\n",
       "      <td>0.00560</td>\n",
       "      <td>2021-12-15</td>\n",
       "    </tr>\n",
       "  </tbody>\n",
       "</table>\n",
       "<p>66772 rows × 10 columns</p>\n",
       "</div>"
      ],
      "text/plain": [
       "                          type            sourceName sourceVersion  \\\n",
       "56673   DistanceWalkingRunning               Claire           13.0   \n",
       "56674   DistanceWalkingRunning               Claire           13.0   \n",
       "56675   DistanceWalkingRunning      iPhone de Claire        12.1.3   \n",
       "56676   DistanceWalkingRunning      iPhone de Claire        12.1.3   \n",
       "56677   DistanceWalkingRunning  iPhone de Claire (2)           NaN   \n",
       "...                        ...                   ...           ...   \n",
       "123440  DistanceWalkingRunning               Claire         14.4.2   \n",
       "123441  DistanceWalkingRunning               Claire         14.4.2   \n",
       "123442  DistanceWalkingRunning               Claire         14.4.2   \n",
       "123443  DistanceWalkingRunning               Claire         14.4.2   \n",
       "123444  DistanceWalkingRunning               Claire         14.4.2   \n",
       "\n",
       "                                                   device unit  \\\n",
       "56673   <<HKDevice: 0x2825dc0a0>, name:iPhone, manufac...   km   \n",
       "56674   <<HKDevice: 0x2825dc0a0>, name:iPhone, manufac...   km   \n",
       "56675   <<HKDevice: 0x2825dd0e0>, name:iPhone, manufac...   km   \n",
       "56676   <<HKDevice: 0x2825dd0e0>, name:iPhone, manufac...   km   \n",
       "56677                                                 NaN   km   \n",
       "...                                                   ...  ...   \n",
       "123440  <<HKDevice: 0x2825dbc00>, name:iPhone, manufac...   km   \n",
       "123441  <<HKDevice: 0x2825dbc00>, name:iPhone, manufac...   km   \n",
       "123442  <<HKDevice: 0x2825dbc00>, name:iPhone, manufac...   km   \n",
       "123443  <<HKDevice: 0x2825dbc00>, name:iPhone, manufac...   km   \n",
       "123444  <<HKDevice: 0x2825dbc00>, name:iPhone, manufac...   km   \n",
       "\n",
       "                    creationDate                 startDate  \\\n",
       "56673  2019-09-21 23:23:37+01:00 2019-09-21 23:12:34+01:00   \n",
       "56674  2019-09-21 23:53:13+01:00 2019-09-21 23:42:10+01:00   \n",
       "56675  2019-02-02 20:06:09+01:00 2019-02-02 19:55:46+01:00   \n",
       "56676  2019-02-02 20:23:29+01:00 2019-02-02 20:05:18+01:00   \n",
       "56677  2015-05-07 23:07:36+01:00 2015-05-07 21:37:56+01:00   \n",
       "...                          ...                       ...   \n",
       "123440 2021-12-15 18:55:37+01:00 2021-12-15 18:44:11+01:00   \n",
       "123441 2021-12-15 19:09:02+01:00 2021-12-15 18:57:59+01:00   \n",
       "123442 2021-12-15 19:31:37+01:00 2021-12-15 19:13:39+01:00   \n",
       "123443 2021-12-15 20:02:07+01:00 2021-12-15 19:47:43+01:00   \n",
       "123444 2021-12-15 22:20:10+01:00 2021-12-15 22:09:07+01:00   \n",
       "\n",
       "                         endDate    value CreationDatebis  \n",
       "56673  2019-09-21 23:15:07+01:00  0.06509      2019-09-21  \n",
       "56674  2019-09-21 23:42:13+01:00  0.00600      2019-09-21  \n",
       "56675  2019-02-02 20:05:18+01:00  0.32956      2019-02-02  \n",
       "56676  2019-02-02 20:05:48+01:00  0.04504      2019-02-02  \n",
       "56677  2015-05-07 21:38:04+01:00  0.01362      2015-05-07  \n",
       "...                          ...      ...             ...  \n",
       "123440 2021-12-15 18:50:43+01:00  0.12267      2021-12-15  \n",
       "123441 2021-12-15 19:07:55+01:00  0.25321      2021-12-15  \n",
       "123442 2021-12-15 19:20:25+01:00  0.30467      2021-12-15  \n",
       "123443 2021-12-15 19:47:46+01:00  0.00900      2021-12-15  \n",
       "123444 2021-12-15 22:09:10+01:00  0.00560      2021-12-15  \n",
       "\n",
       "[66772 rows x 10 columns]"
      ]
     },
     "execution_count": 79,
     "metadata": {},
     "output_type": "execute_result"
    }
   ],
   "source": [
    "health_data_distance"
   ]
  },
  {
   "cell_type": "code",
   "execution_count": null,
   "id": "4428d3f2",
   "metadata": {},
   "outputs": [],
   "source": []
  }
 ],
 "metadata": {
  "kernelspec": {
   "display_name": "Python 3 (ipykernel)",
   "language": "python",
   "name": "python3"
  },
  "language_info": {
   "codemirror_mode": {
    "name": "ipython",
    "version": 3
   },
   "file_extension": ".py",
   "mimetype": "text/x-python",
   "name": "python",
   "nbconvert_exporter": "python",
   "pygments_lexer": "ipython3",
   "version": "3.9.7"
  }
 },
 "nbformat": 4,
 "nbformat_minor": 5
}
